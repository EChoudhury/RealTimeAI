{
  "nbformat": 4,
  "nbformat_minor": 0,
  "metadata": {
    "kernelspec": {
      "display_name": "Python 3",
      "language": "python",
      "name": "python3"
    },
    "language_info": {
      "codemirror_mode": {
        "name": "ipython",
        "version": 3
      },
      "file_extension": ".py",
      "mimetype": "text/x-python",
      "name": "python",
      "nbconvert_exporter": "python",
      "pygments_lexer": "ipython3",
      "version": "3.7.6"
    },
    "colab": {
      "name": "Real Time AI - HW4 Choudhury Github",
      "provenance": [],
      "include_colab_link": true
    },
    "accelerator": "GPU",
    "widgets": {
      "application/vnd.jupyter.widget-state+json": {
        "6d34e670746e40878e0df2cb3b5e167b": {
          "model_module": "@jupyter-widgets/controls",
          "model_name": "HBoxModel",
          "state": {
            "_view_name": "HBoxView",
            "_dom_classes": [],
            "_model_name": "HBoxModel",
            "_view_module": "@jupyter-widgets/controls",
            "_model_module_version": "1.5.0",
            "_view_count": null,
            "_view_module_version": "1.5.0",
            "box_style": "",
            "layout": "IPY_MODEL_5f14e5b870a148839c6a44df43374f24",
            "_model_module": "@jupyter-widgets/controls",
            "children": [
              "IPY_MODEL_ae6231936acb48faa5ae16078e37e20e",
              "IPY_MODEL_08eec9935a4347d8a5570bb1bed369b4"
            ]
          }
        },
        "5f14e5b870a148839c6a44df43374f24": {
          "model_module": "@jupyter-widgets/base",
          "model_name": "LayoutModel",
          "state": {
            "_view_name": "LayoutView",
            "grid_template_rows": null,
            "right": null,
            "justify_content": null,
            "_view_module": "@jupyter-widgets/base",
            "overflow": null,
            "_model_module_version": "1.2.0",
            "_view_count": null,
            "flex_flow": null,
            "width": null,
            "min_width": null,
            "border": null,
            "align_items": null,
            "bottom": null,
            "_model_module": "@jupyter-widgets/base",
            "top": null,
            "grid_column": null,
            "overflow_y": null,
            "overflow_x": null,
            "grid_auto_flow": null,
            "grid_area": null,
            "grid_template_columns": null,
            "flex": null,
            "_model_name": "LayoutModel",
            "justify_items": null,
            "grid_row": null,
            "max_height": null,
            "align_content": null,
            "visibility": null,
            "align_self": null,
            "height": null,
            "min_height": null,
            "padding": null,
            "grid_auto_rows": null,
            "grid_gap": null,
            "max_width": null,
            "order": null,
            "_view_module_version": "1.2.0",
            "grid_template_areas": null,
            "object_position": null,
            "object_fit": null,
            "grid_auto_columns": null,
            "margin": null,
            "display": null,
            "left": null
          }
        },
        "ae6231936acb48faa5ae16078e37e20e": {
          "model_module": "@jupyter-widgets/controls",
          "model_name": "FloatProgressModel",
          "state": {
            "_view_name": "ProgressView",
            "style": "IPY_MODEL_071fcce7a7fb4039b3212b80cf8401f6",
            "_dom_classes": [],
            "description": "",
            "_model_name": "FloatProgressModel",
            "bar_style": "success",
            "max": 170498071,
            "_view_module": "@jupyter-widgets/controls",
            "_model_module_version": "1.5.0",
            "value": 170498071,
            "_view_count": null,
            "_view_module_version": "1.5.0",
            "orientation": "horizontal",
            "min": 0,
            "description_tooltip": null,
            "_model_module": "@jupyter-widgets/controls",
            "layout": "IPY_MODEL_47e3936ca37f4585aa5dd3e4cc9ab1e4"
          }
        },
        "08eec9935a4347d8a5570bb1bed369b4": {
          "model_module": "@jupyter-widgets/controls",
          "model_name": "HTMLModel",
          "state": {
            "_view_name": "HTMLView",
            "style": "IPY_MODEL_fc359d15f9cf421cb4c1a83504f2ecc0",
            "_dom_classes": [],
            "description": "",
            "_model_name": "HTMLModel",
            "placeholder": "​",
            "_view_module": "@jupyter-widgets/controls",
            "_model_module_version": "1.5.0",
            "value": " 170499072/? [00:09&lt;00:00, 17483831.62it/s]",
            "_view_count": null,
            "_view_module_version": "1.5.0",
            "description_tooltip": null,
            "_model_module": "@jupyter-widgets/controls",
            "layout": "IPY_MODEL_750bee47cda94e94bbe2d3afce749996"
          }
        },
        "071fcce7a7fb4039b3212b80cf8401f6": {
          "model_module": "@jupyter-widgets/controls",
          "model_name": "ProgressStyleModel",
          "state": {
            "_view_name": "StyleView",
            "_model_name": "ProgressStyleModel",
            "description_width": "initial",
            "_view_module": "@jupyter-widgets/base",
            "_model_module_version": "1.5.0",
            "_view_count": null,
            "_view_module_version": "1.2.0",
            "bar_color": null,
            "_model_module": "@jupyter-widgets/controls"
          }
        },
        "47e3936ca37f4585aa5dd3e4cc9ab1e4": {
          "model_module": "@jupyter-widgets/base",
          "model_name": "LayoutModel",
          "state": {
            "_view_name": "LayoutView",
            "grid_template_rows": null,
            "right": null,
            "justify_content": null,
            "_view_module": "@jupyter-widgets/base",
            "overflow": null,
            "_model_module_version": "1.2.0",
            "_view_count": null,
            "flex_flow": null,
            "width": null,
            "min_width": null,
            "border": null,
            "align_items": null,
            "bottom": null,
            "_model_module": "@jupyter-widgets/base",
            "top": null,
            "grid_column": null,
            "overflow_y": null,
            "overflow_x": null,
            "grid_auto_flow": null,
            "grid_area": null,
            "grid_template_columns": null,
            "flex": null,
            "_model_name": "LayoutModel",
            "justify_items": null,
            "grid_row": null,
            "max_height": null,
            "align_content": null,
            "visibility": null,
            "align_self": null,
            "height": null,
            "min_height": null,
            "padding": null,
            "grid_auto_rows": null,
            "grid_gap": null,
            "max_width": null,
            "order": null,
            "_view_module_version": "1.2.0",
            "grid_template_areas": null,
            "object_position": null,
            "object_fit": null,
            "grid_auto_columns": null,
            "margin": null,
            "display": null,
            "left": null
          }
        },
        "fc359d15f9cf421cb4c1a83504f2ecc0": {
          "model_module": "@jupyter-widgets/controls",
          "model_name": "DescriptionStyleModel",
          "state": {
            "_view_name": "StyleView",
            "_model_name": "DescriptionStyleModel",
            "description_width": "",
            "_view_module": "@jupyter-widgets/base",
            "_model_module_version": "1.5.0",
            "_view_count": null,
            "_view_module_version": "1.2.0",
            "_model_module": "@jupyter-widgets/controls"
          }
        },
        "750bee47cda94e94bbe2d3afce749996": {
          "model_module": "@jupyter-widgets/base",
          "model_name": "LayoutModel",
          "state": {
            "_view_name": "LayoutView",
            "grid_template_rows": null,
            "right": null,
            "justify_content": null,
            "_view_module": "@jupyter-widgets/base",
            "overflow": null,
            "_model_module_version": "1.2.0",
            "_view_count": null,
            "flex_flow": null,
            "width": null,
            "min_width": null,
            "border": null,
            "align_items": null,
            "bottom": null,
            "_model_module": "@jupyter-widgets/base",
            "top": null,
            "grid_column": null,
            "overflow_y": null,
            "overflow_x": null,
            "grid_auto_flow": null,
            "grid_area": null,
            "grid_template_columns": null,
            "flex": null,
            "_model_name": "LayoutModel",
            "justify_items": null,
            "grid_row": null,
            "max_height": null,
            "align_content": null,
            "visibility": null,
            "align_self": null,
            "height": null,
            "min_height": null,
            "padding": null,
            "grid_auto_rows": null,
            "grid_gap": null,
            "max_width": null,
            "order": null,
            "_view_module_version": "1.2.0",
            "grid_template_areas": null,
            "object_position": null,
            "object_fit": null,
            "grid_auto_columns": null,
            "margin": null,
            "display": null,
            "left": null
          }
        }
      }
    }
  },
  "cells": [
    {
      "cell_type": "markdown",
      "metadata": {
        "id": "view-in-github",
        "colab_type": "text"
      },
      "source": [
        "<a href=\"https://colab.research.google.com/github/EChoudhury/RealTimeAI/blob/main/Real_Time_AI_HW4_Choudhury.ipynb\" target=\"_parent\"><img src=\"https://colab.research.google.com/assets/colab-badge.svg\" alt=\"Open In Colab\"/></a>"
      ]
    },
    {
      "cell_type": "code",
      "metadata": {
        "colab": {
          "base_uri": "https://localhost:8080/"
        },
        "id": "bv8-AQoyNsnq",
        "outputId": "dbb6bb95-4c8c-487a-8c9f-738b53496329"
      },
      "source": [
        "%matplotlib inline\n",
        "from matplotlib import pyplot as plt\n",
        "import numpy as np\n",
        "import torch\n",
        "\n",
        "torch.set_printoptions(edgeitems=2)\n",
        "torch.manual_seed(123)"
      ],
      "execution_count": 1,
      "outputs": [
        {
          "output_type": "execute_result",
          "data": {
            "text/plain": [
              "<torch._C.Generator at 0x7f852599c8f0>"
            ]
          },
          "metadata": {
            "tags": []
          },
          "execution_count": 1
        }
      ]
    },
    {
      "cell_type": "code",
      "metadata": {
        "id": "JDDChEIlNsn4"
      },
      "source": [
        "class_names = ['airplane','automobile','bird','cat','deer',\n",
        "               'dog','frog','horse','ship','truck']"
      ],
      "execution_count": 2,
      "outputs": []
    },
    {
      "cell_type": "code",
      "metadata": {
        "colab": {
          "base_uri": "https://localhost:8080/",
          "height": 104,
          "referenced_widgets": [
            "6d34e670746e40878e0df2cb3b5e167b",
            "5f14e5b870a148839c6a44df43374f24",
            "ae6231936acb48faa5ae16078e37e20e",
            "08eec9935a4347d8a5570bb1bed369b4",
            "071fcce7a7fb4039b3212b80cf8401f6",
            "47e3936ca37f4585aa5dd3e4cc9ab1e4",
            "fc359d15f9cf421cb4c1a83504f2ecc0",
            "750bee47cda94e94bbe2d3afce749996"
          ]
        },
        "id": "jmr-jNHANsn6",
        "outputId": "8687a5a0-e1de-4519-92c4-8a2c496c8fe5"
      },
      "source": [
        "from torchvision import datasets, transforms\n",
        "data_path = '../data-unversioned/p1ch7/'\n",
        "cifar10 = datasets.CIFAR10(\n",
        "    data_path, train=True, download=True,\n",
        "    transform=transforms.Compose([\n",
        "        transforms.ToTensor(),\n",
        "        transforms.Normalize((0.4915, 0.4823, 0.4468),\n",
        "                             (0.2470, 0.2435, 0.2616))\n",
        "    ]))"
      ],
      "execution_count": 3,
      "outputs": [
        {
          "output_type": "stream",
          "text": [
            "Downloading https://www.cs.toronto.edu/~kriz/cifar-10-python.tar.gz to ../data-unversioned/p1ch7/cifar-10-python.tar.gz\n"
          ],
          "name": "stdout"
        },
        {
          "output_type": "display_data",
          "data": {
            "application/vnd.jupyter.widget-view+json": {
              "model_id": "6d34e670746e40878e0df2cb3b5e167b",
              "version_minor": 0,
              "version_major": 2
            },
            "text/plain": [
              "HBox(children=(FloatProgress(value=0.0, max=170498071.0), HTML(value='')))"
            ]
          },
          "metadata": {
            "tags": []
          }
        },
        {
          "output_type": "stream",
          "text": [
            "\n",
            "Extracting ../data-unversioned/p1ch7/cifar-10-python.tar.gz to ../data-unversioned/p1ch7/\n"
          ],
          "name": "stdout"
        }
      ]
    },
    {
      "cell_type": "code",
      "metadata": {
        "id": "0r8Yr96xNsn7"
      },
      "source": [
        "cifar10_val = datasets.CIFAR10(\n",
        "    data_path, train=False, download=False,\n",
        "    transform=transforms.Compose([\n",
        "        transforms.ToTensor(),\n",
        "        transforms.Normalize((0.4915, 0.4823, 0.4468),\n",
        "                             (0.2470, 0.2435, 0.2616))\n",
        "    ]))"
      ],
      "execution_count": 4,
      "outputs": []
    },
    {
      "cell_type": "code",
      "metadata": {
        "id": "gQ3-nlgqNsn9"
      },
      "source": [
        "label_map = {6: 0, 7: 1, 8: 2, 9: 3}\n",
        "class_names = ['frog', 'horse', 'ship','truck']\n",
        "cifar2 = [(img, label_map[label])\n",
        "          for img, label in cifar10 \n",
        "          if label in [6, 7, 8, 9]]\n",
        "cifar2_val = [(img, label_map[label])\n",
        "              for img, label in cifar10_val\n",
        "              if label in [6, 7, 8, 9]]"
      ],
      "execution_count": 5,
      "outputs": []
    },
    {
      "cell_type": "markdown",
      "metadata": {
        "id": "3oGFmD8HY9b1"
      },
      "source": [
        "**Question 1 Part 1:**"
      ]
    },
    {
      "cell_type": "code",
      "metadata": {
        "id": "amulNGXoNsoR"
      },
      "source": [
        "train_loader = torch.utils.data.DataLoader(cifar2, batch_size=64,\n",
        "                                           shuffle=True)"
      ],
      "execution_count": 6,
      "outputs": []
    },
    {
      "cell_type": "code",
      "metadata": {
        "colab": {
          "base_uri": "https://localhost:8080/"
        },
        "id": "2rQ09uMbNsoU",
        "outputId": "de7ad2a6-c00f-469b-c668-75ef1e4b4099"
      },
      "source": [
        "import torch\n",
        "import torch.nn as nn\n",
        "import torch.optim as optim\n",
        "import time\n",
        "\n",
        "train_loader = torch.utils.data.DataLoader(cifar2, batch_size=64,\n",
        "                                           shuffle=True)\n",
        "\n",
        "model = nn.Sequential(\n",
        "            nn.Linear(3072, 512),\n",
        "            nn.Tanh(),\n",
        "            nn.Linear(512, 4),\n",
        "            nn.LogSoftmax(dim=1))\n",
        "\n",
        "learning_rate = 1e-2\n",
        "\n",
        "optimizer = optim.SGD(model.parameters(), lr=learning_rate)\n",
        "\n",
        "loss_fn = nn.NLLLoss()\n",
        "\n",
        "n_epochs = 200\n",
        "\n",
        "t = time.time()\n",
        "for epoch in range(n_epochs):\n",
        "    for imgs, labels in train_loader:\n",
        "        outputs = model(imgs.view(imgs.shape[0], -1))\n",
        "        loss = loss_fn(outputs, labels)\n",
        "\n",
        "        optimizer.zero_grad()\n",
        "        loss.backward()\n",
        "        optimizer.step()\n",
        "\n",
        "    print(\"Epoch: %d, Loss: %f\" % (epoch, float(loss)))\n",
        "elapsed = time.time() - t\n",
        "print(\"Elapsed Training Time: %s\" % elapsed)"
      ],
      "execution_count": 7,
      "outputs": [
        {
          "output_type": "stream",
          "text": [
            "Epoch: 0, Loss: 0.745326\n",
            "Epoch: 1, Loss: 0.646128\n",
            "Epoch: 2, Loss: 0.797681\n",
            "Epoch: 3, Loss: 0.797029\n",
            "Epoch: 4, Loss: 0.667015\n",
            "Epoch: 5, Loss: 0.583316\n",
            "Epoch: 6, Loss: 0.913675\n",
            "Epoch: 7, Loss: 0.500480\n",
            "Epoch: 8, Loss: 0.572505\n",
            "Epoch: 9, Loss: 0.684698\n",
            "Epoch: 10, Loss: 0.590175\n",
            "Epoch: 11, Loss: 0.713271\n",
            "Epoch: 12, Loss: 0.457858\n",
            "Epoch: 13, Loss: 0.451838\n",
            "Epoch: 14, Loss: 0.422193\n",
            "Epoch: 15, Loss: 0.513691\n",
            "Epoch: 16, Loss: 0.670527\n",
            "Epoch: 17, Loss: 0.325947\n",
            "Epoch: 18, Loss: 0.453996\n",
            "Epoch: 19, Loss: 0.557100\n",
            "Epoch: 20, Loss: 0.377720\n",
            "Epoch: 21, Loss: 0.351241\n",
            "Epoch: 22, Loss: 0.300203\n",
            "Epoch: 23, Loss: 0.329142\n",
            "Epoch: 24, Loss: 0.278762\n",
            "Epoch: 25, Loss: 0.240725\n",
            "Epoch: 26, Loss: 0.371935\n",
            "Epoch: 27, Loss: 0.171413\n",
            "Epoch: 28, Loss: 0.122777\n",
            "Epoch: 29, Loss: 0.242501\n",
            "Epoch: 30, Loss: 0.196924\n",
            "Epoch: 31, Loss: 0.106221\n",
            "Epoch: 32, Loss: 0.167923\n",
            "Epoch: 33, Loss: 0.076605\n",
            "Epoch: 34, Loss: 0.130320\n",
            "Epoch: 35, Loss: 0.127546\n",
            "Epoch: 36, Loss: 0.139069\n",
            "Epoch: 37, Loss: 0.173204\n",
            "Epoch: 38, Loss: 0.098087\n",
            "Epoch: 39, Loss: 0.104630\n",
            "Epoch: 40, Loss: 0.171795\n",
            "Epoch: 41, Loss: 0.083699\n",
            "Epoch: 42, Loss: 0.067718\n",
            "Epoch: 43, Loss: 0.038186\n",
            "Epoch: 44, Loss: 0.076516\n",
            "Epoch: 45, Loss: 0.066348\n",
            "Epoch: 46, Loss: 0.112702\n",
            "Epoch: 47, Loss: 0.093993\n",
            "Epoch: 48, Loss: 0.064829\n",
            "Epoch: 49, Loss: 0.042878\n",
            "Epoch: 50, Loss: 0.083492\n",
            "Epoch: 51, Loss: 0.064377\n",
            "Epoch: 52, Loss: 0.113614\n",
            "Epoch: 53, Loss: 0.109474\n",
            "Epoch: 54, Loss: 0.058128\n",
            "Epoch: 55, Loss: 0.022197\n",
            "Epoch: 56, Loss: 0.069295\n",
            "Epoch: 57, Loss: 0.037508\n",
            "Epoch: 58, Loss: 0.025592\n",
            "Epoch: 59, Loss: 0.018273\n",
            "Epoch: 60, Loss: 0.035010\n",
            "Epoch: 61, Loss: 0.016273\n",
            "Epoch: 62, Loss: 0.032881\n",
            "Epoch: 63, Loss: 0.051055\n",
            "Epoch: 64, Loss: 0.030540\n",
            "Epoch: 65, Loss: 0.022560\n",
            "Epoch: 66, Loss: 0.038194\n",
            "Epoch: 67, Loss: 0.036133\n",
            "Epoch: 68, Loss: 0.027442\n",
            "Epoch: 69, Loss: 0.015030\n",
            "Epoch: 70, Loss: 0.023017\n",
            "Epoch: 71, Loss: 0.023689\n",
            "Epoch: 72, Loss: 0.020754\n",
            "Epoch: 73, Loss: 0.012624\n",
            "Epoch: 74, Loss: 0.024573\n",
            "Epoch: 75, Loss: 0.026391\n",
            "Epoch: 76, Loss: 0.026680\n",
            "Epoch: 77, Loss: 0.023896\n",
            "Epoch: 78, Loss: 0.020157\n",
            "Epoch: 79, Loss: 0.030742\n",
            "Epoch: 80, Loss: 0.026650\n",
            "Epoch: 81, Loss: 0.013864\n",
            "Epoch: 82, Loss: 0.012385\n",
            "Epoch: 83, Loss: 0.010432\n",
            "Epoch: 84, Loss: 0.010260\n",
            "Epoch: 85, Loss: 0.014430\n",
            "Epoch: 86, Loss: 0.012687\n",
            "Epoch: 87, Loss: 0.010398\n",
            "Epoch: 88, Loss: 0.015221\n",
            "Epoch: 89, Loss: 0.011710\n",
            "Epoch: 90, Loss: 0.013729\n",
            "Epoch: 91, Loss: 0.012183\n",
            "Epoch: 92, Loss: 0.010537\n",
            "Epoch: 93, Loss: 0.009835\n",
            "Epoch: 94, Loss: 0.016884\n",
            "Epoch: 95, Loss: 0.007684\n",
            "Epoch: 96, Loss: 0.019139\n",
            "Epoch: 97, Loss: 0.011535\n",
            "Epoch: 98, Loss: 0.012063\n",
            "Epoch: 99, Loss: 0.051556\n",
            "Epoch: 100, Loss: 0.009063\n",
            "Epoch: 101, Loss: 0.014064\n",
            "Epoch: 102, Loss: 0.007180\n",
            "Epoch: 103, Loss: 0.013147\n",
            "Epoch: 104, Loss: 0.008137\n",
            "Epoch: 105, Loss: 0.011761\n",
            "Epoch: 106, Loss: 0.009348\n",
            "Epoch: 107, Loss: 0.013191\n",
            "Epoch: 108, Loss: 0.008609\n",
            "Epoch: 109, Loss: 0.010587\n",
            "Epoch: 110, Loss: 0.019434\n",
            "Epoch: 111, Loss: 0.014501\n",
            "Epoch: 112, Loss: 0.009024\n",
            "Epoch: 113, Loss: 0.006623\n",
            "Epoch: 114, Loss: 0.009394\n",
            "Epoch: 115, Loss: 0.012434\n",
            "Epoch: 116, Loss: 0.009425\n",
            "Epoch: 117, Loss: 0.005723\n",
            "Epoch: 118, Loss: 0.007306\n",
            "Epoch: 119, Loss: 0.012212\n",
            "Epoch: 120, Loss: 0.008513\n",
            "Epoch: 121, Loss: 0.009391\n",
            "Epoch: 122, Loss: 0.005982\n",
            "Epoch: 123, Loss: 0.007222\n",
            "Epoch: 124, Loss: 0.016035\n",
            "Epoch: 125, Loss: 0.006827\n",
            "Epoch: 126, Loss: 0.006042\n",
            "Epoch: 127, Loss: 0.004501\n",
            "Epoch: 128, Loss: 0.009183\n",
            "Epoch: 129, Loss: 0.008580\n",
            "Epoch: 130, Loss: 0.007872\n",
            "Epoch: 131, Loss: 0.007476\n",
            "Epoch: 132, Loss: 0.007418\n",
            "Epoch: 133, Loss: 0.007770\n",
            "Epoch: 134, Loss: 0.010097\n",
            "Epoch: 135, Loss: 0.008185\n",
            "Epoch: 136, Loss: 0.007580\n",
            "Epoch: 137, Loss: 0.007082\n",
            "Epoch: 138, Loss: 0.011108\n",
            "Epoch: 139, Loss: 0.007571\n",
            "Epoch: 140, Loss: 0.007281\n",
            "Epoch: 141, Loss: 0.007130\n",
            "Epoch: 142, Loss: 0.007788\n",
            "Epoch: 143, Loss: 0.007128\n",
            "Epoch: 144, Loss: 0.004938\n",
            "Epoch: 145, Loss: 0.007405\n",
            "Epoch: 146, Loss: 0.004450\n",
            "Epoch: 147, Loss: 0.006144\n",
            "Epoch: 148, Loss: 0.004300\n",
            "Epoch: 149, Loss: 0.005404\n",
            "Epoch: 150, Loss: 0.005417\n",
            "Epoch: 151, Loss: 0.005004\n",
            "Epoch: 152, Loss: 0.005829\n",
            "Epoch: 153, Loss: 0.006768\n",
            "Epoch: 154, Loss: 0.006653\n",
            "Epoch: 155, Loss: 0.004811\n",
            "Epoch: 156, Loss: 0.005572\n",
            "Epoch: 157, Loss: 0.004142\n",
            "Epoch: 158, Loss: 0.004304\n",
            "Epoch: 159, Loss: 0.004342\n",
            "Epoch: 160, Loss: 0.005187\n",
            "Epoch: 161, Loss: 0.006562\n",
            "Epoch: 162, Loss: 0.005223\n",
            "Epoch: 163, Loss: 0.007021\n",
            "Epoch: 164, Loss: 0.003506\n",
            "Epoch: 165, Loss: 0.005406\n",
            "Epoch: 166, Loss: 0.005753\n",
            "Epoch: 167, Loss: 0.004938\n",
            "Epoch: 168, Loss: 0.005410\n",
            "Epoch: 169, Loss: 0.003616\n",
            "Epoch: 170, Loss: 0.003201\n",
            "Epoch: 171, Loss: 0.005007\n",
            "Epoch: 172, Loss: 0.004252\n",
            "Epoch: 173, Loss: 0.002959\n",
            "Epoch: 174, Loss: 0.005649\n",
            "Epoch: 175, Loss: 0.004660\n",
            "Epoch: 176, Loss: 0.002589\n",
            "Epoch: 177, Loss: 0.004637\n",
            "Epoch: 178, Loss: 0.005632\n",
            "Epoch: 179, Loss: 0.005673\n",
            "Epoch: 180, Loss: 0.004769\n",
            "Epoch: 181, Loss: 0.002536\n",
            "Epoch: 182, Loss: 0.005473\n",
            "Epoch: 183, Loss: 0.004426\n",
            "Epoch: 184, Loss: 0.006090\n",
            "Epoch: 185, Loss: 0.002592\n",
            "Epoch: 186, Loss: 0.004454\n",
            "Epoch: 187, Loss: 0.003782\n",
            "Epoch: 188, Loss: 0.004063\n",
            "Epoch: 189, Loss: 0.003290\n",
            "Epoch: 190, Loss: 0.002372\n",
            "Epoch: 191, Loss: 0.004282\n",
            "Epoch: 192, Loss: 0.004809\n",
            "Epoch: 193, Loss: 0.002828\n",
            "Epoch: 194, Loss: 0.005009\n",
            "Epoch: 195, Loss: 0.005347\n",
            "Epoch: 196, Loss: 0.004429\n",
            "Epoch: 197, Loss: 0.003321\n",
            "Epoch: 198, Loss: 0.002365\n",
            "Epoch: 199, Loss: 0.007843\n",
            "Elapsed Training Time: 595.0582294464111\n"
          ],
          "name": "stdout"
        }
      ]
    },
    {
      "cell_type": "code",
      "metadata": {
        "id": "bRB8AOBcNsoU"
      },
      "source": [
        "train_loader = torch.utils.data.DataLoader(cifar2, batch_size=64,\n",
        "                                           shuffle=False)\n",
        "\n",
        "correct = 0\n",
        "total = 0\n",
        "\n",
        "with torch.no_grad():\n",
        "    for imgs, labels in train_loader:\n",
        "        outputs = model(imgs.view(imgs.shape[0], -1))\n",
        "        _, predicted = torch.max(outputs, dim=1)\n",
        "        total += labels.shape[0]\n",
        "        correct += int((predicted == labels).sum())\n",
        "        \n",
        "print(\"Accuracy: %f\" % (correct / total))"
      ],
      "execution_count": null,
      "outputs": []
    },
    {
      "cell_type": "code",
      "metadata": {
        "colab": {
          "base_uri": "https://localhost:8080/"
        },
        "id": "JEFJkrNANsoV",
        "outputId": "7ec4137f-2c4d-479b-db2d-b1b846deecbc"
      },
      "source": [
        "val_loader = torch.utils.data.DataLoader(cifar2_val, batch_size=64,\n",
        "                                         shuffle=False)\n",
        "\n",
        "correct = 0\n",
        "total = 0\n",
        "\n",
        "with torch.no_grad():\n",
        "    for imgs, labels in val_loader:\n",
        "        outputs = model(imgs.view(imgs.shape[0], -1))\n",
        "        _, predicted = torch.max(outputs, dim=1)\n",
        "        total += labels.shape[0]\n",
        "        correct += int((predicted == labels).sum())\n",
        "        \n",
        "print(\"Accuracy: %f\" % (correct / total))"
      ],
      "execution_count": 9,
      "outputs": [
        {
          "output_type": "stream",
          "text": [
            "Accuracy: 0.774000\n"
          ],
          "name": "stdout"
        }
      ]
    },
    {
      "cell_type": "markdown",
      "metadata": {
        "id": "tfoPlmtNY2Os"
      },
      "source": [
        "**Question 1, Part 2:**"
      ]
    },
    {
      "cell_type": "code",
      "metadata": {
        "id": "OtX516B9NsoV"
      },
      "source": [
        "model = nn.Sequential(\n",
        "            nn.Linear(3072, 1024),\n",
        "            nn.Tanh(),\n",
        "            nn.Linear(1024, 512),\n",
        "            nn.Tanh(),\n",
        "            nn.Linear(512, 128),\n",
        "            nn.Tanh(),\n",
        "            nn.Linear(128, 2),\n",
        "            nn.LogSoftmax(dim=1))"
      ],
      "execution_count": 10,
      "outputs": []
    },
    {
      "cell_type": "code",
      "metadata": {
        "id": "w7fvEPJINsoW"
      },
      "source": [
        "model = nn.Sequential(\n",
        "            nn.Linear(3072, 1024),\n",
        "            nn.Tanh(),\n",
        "            nn.Linear(1024, 512),\n",
        "            nn.Tanh(),\n",
        "            nn.Linear(512, 128),\n",
        "            nn.Tanh(),\n",
        "            nn.Linear(128, 2))\n",
        "\n",
        "loss_fn = nn.CrossEntropyLoss()"
      ],
      "execution_count": 11,
      "outputs": []
    },
    {
      "cell_type": "code",
      "metadata": {
        "colab": {
          "base_uri": "https://localhost:8080/"
        },
        "id": "BGpaDtrANsoW",
        "outputId": "834d87fa-884c-4c96-ceb5-5ed7210e8e0a"
      },
      "source": [
        "import torch\n",
        "import torch.nn as nn\n",
        "import torch.optim as optim\n",
        "\n",
        "train_loader = torch.utils.data.DataLoader(cifar2, batch_size=64,\n",
        "                                           shuffle=True)\n",
        "\n",
        "model = nn.Sequential(\n",
        "            nn.Linear(3072, 1024),\n",
        "            nn.Tanh(),\n",
        "            nn.Linear(1024, 512),\n",
        "            nn.Tanh(),\n",
        "            nn.Linear(512, 128),\n",
        "            nn.Tanh(),\n",
        "            nn.Linear(128, 4))\n",
        "\n",
        "learning_rate = 1e-2\n",
        "\n",
        "optimizer = optim.SGD(model.parameters(), lr=learning_rate)\n",
        "\n",
        "loss_fn = nn.CrossEntropyLoss()\n",
        "\n",
        "n_epochs = 200\n",
        "\n",
        "t = time.time()\n",
        "for epoch in range(n_epochs):\n",
        "    for imgs, labels in train_loader:\n",
        "        outputs = model(imgs.view(imgs.shape[0], -1))\n",
        "        loss = loss_fn(outputs, labels)\n",
        "\n",
        "        optimizer.zero_grad()\n",
        "        loss.backward()\n",
        "        optimizer.step()\n",
        "\n",
        "    print(\"Epoch: %d, Loss: %f\" % (epoch, float(loss)))\n",
        "elapsed = time.time() - t\n",
        "print(\"Elapsed Training Time: %s\" % elapsed)"
      ],
      "execution_count": 12,
      "outputs": [
        {
          "output_type": "stream",
          "text": [
            "Epoch: 0, Loss: 0.901608\n",
            "Epoch: 1, Loss: 0.802176\n",
            "Epoch: 2, Loss: 0.482365\n",
            "Epoch: 3, Loss: 0.843536\n",
            "Epoch: 4, Loss: 0.826616\n",
            "Epoch: 5, Loss: 0.605048\n",
            "Epoch: 6, Loss: 0.696433\n",
            "Epoch: 7, Loss: 0.674695\n",
            "Epoch: 8, Loss: 0.652445\n",
            "Epoch: 9, Loss: 0.729730\n",
            "Epoch: 10, Loss: 0.479166\n",
            "Epoch: 11, Loss: 0.650773\n",
            "Epoch: 12, Loss: 0.618325\n",
            "Epoch: 13, Loss: 0.218682\n",
            "Epoch: 14, Loss: 0.519471\n",
            "Epoch: 15, Loss: 0.368111\n",
            "Epoch: 16, Loss: 0.435241\n",
            "Epoch: 17, Loss: 0.497027\n",
            "Epoch: 18, Loss: 0.312156\n",
            "Epoch: 19, Loss: 0.454031\n",
            "Epoch: 20, Loss: 0.315858\n",
            "Epoch: 21, Loss: 0.103988\n",
            "Epoch: 22, Loss: 0.109139\n",
            "Epoch: 23, Loss: 0.187654\n",
            "Epoch: 24, Loss: 0.694715\n",
            "Epoch: 25, Loss: 0.092136\n",
            "Epoch: 26, Loss: 0.086972\n",
            "Epoch: 27, Loss: 0.172950\n",
            "Epoch: 28, Loss: 0.075441\n",
            "Epoch: 29, Loss: 0.100773\n",
            "Epoch: 30, Loss: 0.142153\n",
            "Epoch: 31, Loss: 0.037859\n",
            "Epoch: 32, Loss: 0.055102\n",
            "Epoch: 33, Loss: 0.042593\n",
            "Epoch: 34, Loss: 0.059024\n",
            "Epoch: 35, Loss: 0.028703\n",
            "Epoch: 36, Loss: 0.025711\n",
            "Epoch: 37, Loss: 0.024649\n",
            "Epoch: 38, Loss: 0.004080\n",
            "Epoch: 39, Loss: 0.017557\n",
            "Epoch: 40, Loss: 0.004878\n",
            "Epoch: 41, Loss: 0.008883\n",
            "Epoch: 42, Loss: 0.006869\n",
            "Epoch: 43, Loss: 0.003319\n",
            "Epoch: 44, Loss: 0.003744\n",
            "Epoch: 45, Loss: 0.005558\n",
            "Epoch: 46, Loss: 0.002160\n",
            "Epoch: 47, Loss: 0.005722\n",
            "Epoch: 48, Loss: 0.006491\n",
            "Epoch: 49, Loss: 0.002717\n",
            "Epoch: 50, Loss: 0.005620\n",
            "Epoch: 51, Loss: 0.002750\n",
            "Epoch: 52, Loss: 0.002659\n",
            "Epoch: 53, Loss: 0.001913\n",
            "Epoch: 54, Loss: 0.002988\n",
            "Epoch: 55, Loss: 0.002002\n",
            "Epoch: 56, Loss: 0.001055\n",
            "Epoch: 57, Loss: 0.004934\n",
            "Epoch: 58, Loss: 0.001637\n",
            "Epoch: 59, Loss: 0.001869\n",
            "Epoch: 60, Loss: 0.000811\n",
            "Epoch: 61, Loss: 0.001968\n",
            "Epoch: 62, Loss: 0.001658\n",
            "Epoch: 63, Loss: 0.001452\n",
            "Epoch: 64, Loss: 0.001195\n",
            "Epoch: 65, Loss: 0.001379\n",
            "Epoch: 66, Loss: 0.002118\n",
            "Epoch: 67, Loss: 0.001391\n",
            "Epoch: 68, Loss: 0.001313\n",
            "Epoch: 69, Loss: 0.000987\n",
            "Epoch: 70, Loss: 0.001007\n",
            "Epoch: 71, Loss: 0.001013\n",
            "Epoch: 72, Loss: 0.002284\n",
            "Epoch: 73, Loss: 0.000826\n",
            "Epoch: 74, Loss: 0.001430\n",
            "Epoch: 75, Loss: 0.000858\n",
            "Epoch: 76, Loss: 0.000688\n",
            "Epoch: 77, Loss: 0.000718\n",
            "Epoch: 78, Loss: 0.001097\n",
            "Epoch: 79, Loss: 0.000965\n",
            "Epoch: 80, Loss: 0.001040\n",
            "Epoch: 81, Loss: 0.000687\n",
            "Epoch: 82, Loss: 0.000894\n",
            "Epoch: 83, Loss: 0.000565\n",
            "Epoch: 84, Loss: 0.000374\n",
            "Epoch: 85, Loss: 0.000961\n",
            "Epoch: 86, Loss: 0.001472\n",
            "Epoch: 87, Loss: 0.000978\n",
            "Epoch: 88, Loss: 0.000549\n",
            "Epoch: 89, Loss: 0.001041\n",
            "Epoch: 90, Loss: 0.000704\n",
            "Epoch: 91, Loss: 0.000867\n",
            "Epoch: 92, Loss: 0.000473\n",
            "Epoch: 93, Loss: 0.001159\n",
            "Epoch: 94, Loss: 0.000395\n",
            "Epoch: 95, Loss: 0.000553\n",
            "Epoch: 96, Loss: 0.000651\n",
            "Epoch: 97, Loss: 0.000518\n",
            "Epoch: 98, Loss: 0.000789\n",
            "Epoch: 99, Loss: 0.000678\n",
            "Epoch: 100, Loss: 0.000472\n",
            "Epoch: 101, Loss: 0.000843\n",
            "Epoch: 102, Loss: 0.000522\n",
            "Epoch: 103, Loss: 0.000619\n",
            "Epoch: 104, Loss: 0.000596\n",
            "Epoch: 105, Loss: 0.000756\n",
            "Epoch: 106, Loss: 0.000533\n",
            "Epoch: 107, Loss: 0.000653\n",
            "Epoch: 108, Loss: 0.000465\n",
            "Epoch: 109, Loss: 0.000749\n",
            "Epoch: 110, Loss: 0.000547\n",
            "Epoch: 111, Loss: 0.000426\n",
            "Epoch: 112, Loss: 0.000689\n",
            "Epoch: 113, Loss: 0.000354\n",
            "Epoch: 114, Loss: 0.000860\n",
            "Epoch: 115, Loss: 0.000208\n",
            "Epoch: 116, Loss: 0.000601\n",
            "Epoch: 117, Loss: 0.000961\n",
            "Epoch: 118, Loss: 0.000580\n",
            "Epoch: 119, Loss: 0.000570\n",
            "Epoch: 120, Loss: 0.000487\n",
            "Epoch: 121, Loss: 0.000373\n",
            "Epoch: 122, Loss: 0.000313\n",
            "Epoch: 123, Loss: 0.000258\n",
            "Epoch: 124, Loss: 0.000280\n",
            "Epoch: 125, Loss: 0.000490\n",
            "Epoch: 126, Loss: 0.000328\n",
            "Epoch: 127, Loss: 0.000247\n",
            "Epoch: 128, Loss: 0.000352\n",
            "Epoch: 129, Loss: 0.000479\n",
            "Epoch: 130, Loss: 0.000211\n",
            "Epoch: 131, Loss: 0.000353\n",
            "Epoch: 132, Loss: 0.000321\n",
            "Epoch: 133, Loss: 0.000620\n",
            "Epoch: 134, Loss: 0.000501\n",
            "Epoch: 135, Loss: 0.000228\n",
            "Epoch: 136, Loss: 0.000378\n",
            "Epoch: 137, Loss: 0.000631\n",
            "Epoch: 138, Loss: 0.000367\n",
            "Epoch: 139, Loss: 0.000112\n",
            "Epoch: 140, Loss: 0.000336\n",
            "Epoch: 141, Loss: 0.000679\n",
            "Epoch: 142, Loss: 0.000302\n",
            "Epoch: 143, Loss: 0.000479\n",
            "Epoch: 144, Loss: 0.000311\n",
            "Epoch: 145, Loss: 0.000230\n",
            "Epoch: 146, Loss: 0.000260\n",
            "Epoch: 147, Loss: 0.000264\n",
            "Epoch: 148, Loss: 0.000248\n",
            "Epoch: 149, Loss: 0.000426\n",
            "Epoch: 150, Loss: 0.000191\n",
            "Epoch: 151, Loss: 0.000282\n",
            "Epoch: 152, Loss: 0.000290\n",
            "Epoch: 153, Loss: 0.000330\n",
            "Epoch: 154, Loss: 0.000366\n",
            "Epoch: 155, Loss: 0.000626\n",
            "Epoch: 156, Loss: 0.000311\n",
            "Epoch: 157, Loss: 0.000163\n",
            "Epoch: 158, Loss: 0.000311\n",
            "Epoch: 159, Loss: 0.000169\n",
            "Epoch: 160, Loss: 0.000195\n",
            "Epoch: 161, Loss: 0.000671\n",
            "Epoch: 162, Loss: 0.000308\n",
            "Epoch: 163, Loss: 0.000340\n",
            "Epoch: 164, Loss: 0.000718\n",
            "Epoch: 165, Loss: 0.000512\n",
            "Epoch: 166, Loss: 0.000177\n",
            "Epoch: 167, Loss: 0.000307\n",
            "Epoch: 168, Loss: 0.000323\n",
            "Epoch: 169, Loss: 0.000332\n",
            "Epoch: 170, Loss: 0.000561\n",
            "Epoch: 171, Loss: 0.000176\n",
            "Epoch: 172, Loss: 0.000323\n",
            "Epoch: 173, Loss: 0.000337\n",
            "Epoch: 174, Loss: 0.000268\n",
            "Epoch: 175, Loss: 0.000388\n",
            "Epoch: 176, Loss: 0.000397\n",
            "Epoch: 177, Loss: 0.000305\n",
            "Epoch: 178, Loss: 0.000263\n",
            "Epoch: 179, Loss: 0.000109\n",
            "Epoch: 180, Loss: 0.000315\n",
            "Epoch: 181, Loss: 0.000139\n",
            "Epoch: 182, Loss: 0.000184\n",
            "Epoch: 183, Loss: 0.000307\n",
            "Epoch: 184, Loss: 0.000183\n",
            "Epoch: 185, Loss: 0.000225\n",
            "Epoch: 186, Loss: 0.000235\n",
            "Epoch: 187, Loss: 0.000323\n",
            "Epoch: 188, Loss: 0.000100\n",
            "Epoch: 189, Loss: 0.000351\n",
            "Epoch: 190, Loss: 0.000249\n",
            "Epoch: 191, Loss: 0.000319\n",
            "Epoch: 192, Loss: 0.000302\n",
            "Epoch: 193, Loss: 0.000303\n",
            "Epoch: 194, Loss: 0.000200\n",
            "Epoch: 195, Loss: 0.000244\n",
            "Epoch: 196, Loss: 0.000150\n",
            "Epoch: 197, Loss: 0.000148\n",
            "Epoch: 198, Loss: 0.000212\n",
            "Epoch: 199, Loss: 0.000184\n",
            "Elapsed Training Time: 1546.8125874996185\n"
          ],
          "name": "stdout"
        }
      ]
    },
    {
      "cell_type": "code",
      "metadata": {
        "colab": {
          "base_uri": "https://localhost:8080/"
        },
        "id": "7Mp6HiuJNsoW",
        "outputId": "917fa1c9-f1b0-41b2-b2af-8708376b2f12"
      },
      "source": [
        "train_loader = torch.utils.data.DataLoader(cifar2, batch_size=64,\n",
        "                                           shuffle=False)\n",
        "\n",
        "correct = 0\n",
        "total = 0\n",
        "\n",
        "with torch.no_grad():\n",
        "    for imgs, labels in train_loader:\n",
        "        outputs = model(imgs.view(imgs.shape[0], -1))\n",
        "        _, predicted = torch.max(outputs, dim=1)\n",
        "        total += labels.shape[0]\n",
        "        correct += int((predicted == labels).sum())\n",
        "        \n",
        "print(\"Accuracy: %f\" % (correct / total))"
      ],
      "execution_count": 13,
      "outputs": [
        {
          "output_type": "stream",
          "text": [
            "Accuracy: 1.000000\n"
          ],
          "name": "stdout"
        }
      ]
    },
    {
      "cell_type": "code",
      "metadata": {
        "colab": {
          "base_uri": "https://localhost:8080/"
        },
        "id": "qVBBqaffNsoX",
        "outputId": "ded8aae0-6021-4ef0-fbc9-6ba640befa8a"
      },
      "source": [
        "val_loader = torch.utils.data.DataLoader(cifar2_val, batch_size=64,\n",
        "                                         shuffle=False)\n",
        "\n",
        "correct = 0\n",
        "total = 0\n",
        "\n",
        "with torch.no_grad():\n",
        "    for imgs, labels in val_loader:\n",
        "        outputs = model(imgs.view(imgs.shape[0], -1))\n",
        "        _, predicted = torch.max(outputs, dim=1)\n",
        "        total += labels.shape[0]\n",
        "        correct += int((predicted == labels).sum())\n",
        "        \n",
        "print(\"Accuracy: %f\" % (correct / total))"
      ],
      "execution_count": 14,
      "outputs": [
        {
          "output_type": "stream",
          "text": [
            "Accuracy: 0.762000\n"
          ],
          "name": "stdout"
        }
      ]
    },
    {
      "cell_type": "code",
      "metadata": {
        "id": "9_OTz_1hNsoY",
        "colab": {
          "base_uri": "https://localhost:8080/"
        },
        "outputId": "d585e9d2-7f66-485b-a77b-faaf340dd1bf"
      },
      "source": [
        "sum([p.numel() for p in nn.Linear(3072, 1024).parameters()])"
      ],
      "execution_count": 15,
      "outputs": [
        {
          "output_type": "execute_result",
          "data": {
            "text/plain": [
              "3146752"
            ]
          },
          "metadata": {
            "tags": []
          },
          "execution_count": 15
        }
      ]
    },
    {
      "cell_type": "code",
      "metadata": {
        "id": "zce-2WxvNsoZ",
        "colab": {
          "base_uri": "https://localhost:8080/"
        },
        "outputId": "a57c5206-9bac-48c4-b626-3c95d290931b"
      },
      "source": [
        "linear = nn.Linear(3072, 1024)\n",
        "\n",
        "linear.weight.shape, linear.bias.shape"
      ],
      "execution_count": 16,
      "outputs": [
        {
          "output_type": "execute_result",
          "data": {
            "text/plain": [
              "(torch.Size([1024, 3072]), torch.Size([1024]))"
            ]
          },
          "metadata": {
            "tags": []
          },
          "execution_count": 16
        }
      ]
    },
    {
      "cell_type": "code",
      "metadata": {
        "id": "4SUQUyccNsoa"
      },
      "source": [
        "conv = nn.Conv2d(3, 16, kernel_size=3)"
      ],
      "execution_count": 17,
      "outputs": []
    },
    {
      "cell_type": "code",
      "metadata": {
        "id": "yV_ZYKheNsob",
        "colab": {
          "base_uri": "https://localhost:8080/"
        },
        "outputId": "c16a942a-36e5-4aa4-bc4a-9c6b759f953c"
      },
      "source": [
        "conv.weight.shape"
      ],
      "execution_count": 18,
      "outputs": [
        {
          "output_type": "execute_result",
          "data": {
            "text/plain": [
              "torch.Size([16, 3, 3, 3])"
            ]
          },
          "metadata": {
            "tags": []
          },
          "execution_count": 18
        }
      ]
    },
    {
      "cell_type": "code",
      "metadata": {
        "id": "oCyYPYivNsob",
        "colab": {
          "base_uri": "https://localhost:8080/"
        },
        "outputId": "ab3046cb-f847-4a21-9f10-e7a5ff520932"
      },
      "source": [
        "conv.bias.shape"
      ],
      "execution_count": 19,
      "outputs": [
        {
          "output_type": "execute_result",
          "data": {
            "text/plain": [
              "torch.Size([16])"
            ]
          },
          "metadata": {
            "tags": []
          },
          "execution_count": 19
        }
      ]
    },
    {
      "cell_type": "code",
      "metadata": {
        "id": "zdHGmxMQNsoc"
      },
      "source": [
        "img, _ = cifar2[0]\n",
        "\n",
        "output = conv(img.unsqueeze(0))"
      ],
      "execution_count": 20,
      "outputs": []
    },
    {
      "cell_type": "code",
      "metadata": {
        "id": "WWk7PJmXNsoc",
        "colab": {
          "base_uri": "https://localhost:8080/"
        },
        "outputId": "1ba0b2c4-bf78-422b-a40b-2e4a2ba55e49"
      },
      "source": [
        "img.unsqueeze(0).shape, output.shape"
      ],
      "execution_count": 21,
      "outputs": [
        {
          "output_type": "execute_result",
          "data": {
            "text/plain": [
              "(torch.Size([1, 3, 32, 32]), torch.Size([1, 16, 30, 30]))"
            ]
          },
          "metadata": {
            "tags": []
          },
          "execution_count": 21
        }
      ]
    },
    {
      "cell_type": "code",
      "metadata": {
        "id": "ndIZ0n-qNsod",
        "colab": {
          "base_uri": "https://localhost:8080/",
          "height": 284
        },
        "outputId": "f6637855-6e84-4b2e-8cf4-ae72d21b141e"
      },
      "source": [
        "plt.imshow(img.permute(1, 2, 0), cmap='gray')\n",
        "plt.show()"
      ],
      "execution_count": 22,
      "outputs": [
        {
          "output_type": "stream",
          "text": [
            "Clipping input data to the valid range for imshow with RGB data ([0..1] for floats or [0..255] for integers).\n"
          ],
          "name": "stderr"
        },
        {
          "output_type": "display_data",
          "data": {
            "image/png": "[encoded data removed]",
            "text/plain": [
              "<Figure size 432x288 with 1 Axes>"
            ]
          },
          "metadata": {
            "tags": [],
            "needs_background": "light"
          }
        }
      ]
    },
    {
      "cell_type": "code",
      "metadata": {
        "id": "jM_7W8_dNsod",
        "colab": {
          "base_uri": "https://localhost:8080/",
          "height": 266
        },
        "outputId": "fea800b5-9d3a-4723-9995-4e539f82c930"
      },
      "source": [
        "plt.imshow(output[0, 0].detach(), cmap='gray')\n",
        "plt.show()"
      ],
      "execution_count": 23,
      "outputs": [
        {
          "output_type": "display_data",
          "data": {
            "image/png": "[encoded data removed]",
            "text/plain": [
              "<Figure size 432x288 with 1 Axes>"
            ]
          },
          "metadata": {
            "tags": [],
            "needs_background": "light"
          }
        }
      ]
    },
    {
      "cell_type": "code",
      "metadata": {
        "id": "6qWjgPv9Nsoe",
        "colab": {
          "base_uri": "https://localhost:8080/"
        },
        "outputId": "3650d909-a572-4519-adcd-f4de951e1abf"
      },
      "source": [
        "output.shape"
      ],
      "execution_count": 24,
      "outputs": [
        {
          "output_type": "execute_result",
          "data": {
            "text/plain": [
              "torch.Size([1, 16, 30, 30])"
            ]
          },
          "metadata": {
            "tags": []
          },
          "execution_count": 24
        }
      ]
    },
    {
      "cell_type": "code",
      "metadata": {
        "id": "VgVHaVGLNsoe"
      },
      "source": [
        "conv = nn.Conv2d(3, 1, kernel_size=3, padding=1)"
      ],
      "execution_count": 25,
      "outputs": []
    },
    {
      "cell_type": "code",
      "metadata": {
        "id": "yU3VSesANsoe",
        "colab": {
          "base_uri": "https://localhost:8080/"
        },
        "outputId": "06e07f21-77dd-44a2-a7e8-22a424edb0ac"
      },
      "source": [
        "output = conv(img.unsqueeze(0))\n",
        "\n",
        "output.shape"
      ],
      "execution_count": 26,
      "outputs": [
        {
          "output_type": "execute_result",
          "data": {
            "text/plain": [
              "torch.Size([1, 1, 32, 32])"
            ]
          },
          "metadata": {
            "tags": []
          },
          "execution_count": 26
        }
      ]
    },
    {
      "cell_type": "code",
      "metadata": {
        "id": "9cNsPQ8wNsof"
      },
      "source": [
        "with torch.no_grad():\n",
        "    conv.bias.zero_()"
      ],
      "execution_count": 27,
      "outputs": []
    },
    {
      "cell_type": "code",
      "metadata": {
        "id": "9cYs2GX_Nsof"
      },
      "source": [
        "with torch.no_grad():\n",
        "    conv.weight.fill_(1.0 / 9.0)"
      ],
      "execution_count": 28,
      "outputs": []
    },
    {
      "cell_type": "code",
      "metadata": {
        "id": "V1VJqySmNsog",
        "colab": {
          "base_uri": "https://localhost:8080/",
          "height": 266
        },
        "outputId": "be4f4a7a-cc53-4f25-de02-6516c9f213d9"
      },
      "source": [
        "output = conv(img.unsqueeze(0))\n",
        "plt.imshow(output[0, 0].detach(), cmap='gray')\n",
        "plt.show()"
      ],
      "execution_count": 29,
      "outputs": [
        {
          "output_type": "display_data",
          "data": {
            "image/png": "[encoded data removed]",
            "text/plain": [
              "<Figure size 432x288 with 1 Axes>"
            ]
          },
          "metadata": {
            "tags": [],
            "needs_background": "light"
          }
        }
      ]
    },
    {
      "cell_type": "code",
      "metadata": {
        "id": "OfOB6-2aNsog"
      },
      "source": [
        "conv = nn.Conv2d(3, 1, kernel_size=3, padding=1)\n",
        "\n",
        "with torch.no_grad():\n",
        "    conv.weight[:] = torch.tensor([[-1.0, 0.0, 1.0],\n",
        "                                   [-1.0, 0.0, 1.0],\n",
        "                                   [-1.0, 0.0, 1.0]])\n",
        "    conv.bias.zero_()"
      ],
      "execution_count": 30,
      "outputs": []
    },
    {
      "cell_type": "code",
      "metadata": {
        "id": "L_ZzvckJNsoh",
        "colab": {
          "base_uri": "https://localhost:8080/",
          "height": 266
        },
        "outputId": "44d59bb4-c89e-4772-9790-69a9d7ed1539"
      },
      "source": [
        "output = conv(img.unsqueeze(0))\n",
        "plt.imshow(output[0, 0].detach(), cmap='gray')\n",
        "plt.show()"
      ],
      "execution_count": 31,
      "outputs": [
        {
          "output_type": "display_data",
          "data": {
            "image/png": "[encoded data removed]",
            "text/plain": [
              "<Figure size 432x288 with 1 Axes>"
            ]
          },
          "metadata": {
            "tags": [],
            "needs_background": "light"
          }
        }
      ]
    },
    {
      "cell_type": "code",
      "metadata": {
        "id": "5LQsE4IENsoh"
      },
      "source": [
        "pool = nn.MaxPool2d(2)"
      ],
      "execution_count": 32,
      "outputs": []
    },
    {
      "cell_type": "code",
      "metadata": {
        "id": "dXPw24_uNsoi",
        "colab": {
          "base_uri": "https://localhost:8080/"
        },
        "outputId": "d2d23e01-6547-4f0c-cb59-367c0e07f158"
      },
      "source": [
        "output = pool(img.unsqueeze(0))\n",
        "\n",
        "output.shape"
      ],
      "execution_count": 33,
      "outputs": [
        {
          "output_type": "execute_result",
          "data": {
            "text/plain": [
              "torch.Size([1, 3, 16, 16])"
            ]
          },
          "metadata": {
            "tags": []
          },
          "execution_count": 33
        }
      ]
    },
    {
      "cell_type": "code",
      "metadata": {
        "id": "q2D7YgRPNsoj"
      },
      "source": [
        "model = nn.Sequential(\n",
        "            nn.Conv2d(3, 16, kernel_size=3, padding=1),\n",
        "            nn.Tanh(),\n",
        "            nn.MaxPool2d(2),\n",
        "            nn.Conv2d(16, 8, kernel_size=3, padding=1),\n",
        "            nn.Tanh(),\n",
        "            nn.MaxPool2d(2),\n",
        "            # WARNING: something missing here\n",
        "            nn.Linear(512, 32),\n",
        "            nn.Tanh(),\n",
        "            nn.Linear(32, 2))"
      ],
      "execution_count": 35,
      "outputs": []
    },
    {
      "cell_type": "code",
      "metadata": {
        "id": "I1bXTy8kNsoj",
        "colab": {
          "base_uri": "https://localhost:8080/"
        },
        "outputId": "a2babb7e-3900-4616-d815-5a5a58137c2e"
      },
      "source": [
        "sum([p.numel() for p in model.parameters()])"
      ],
      "execution_count": 36,
      "outputs": [
        {
          "output_type": "execute_result",
          "data": {
            "text/plain": [
              "18090"
            ]
          },
          "metadata": {
            "tags": []
          },
          "execution_count": 36
        }
      ]
    },
    {
      "cell_type": "code",
      "metadata": {
        "id": "Mzy1Wq8UNsoj"
      },
      "source": [
        "#model(img.unsqueeze(0))"
      ],
      "execution_count": 38,
      "outputs": []
    },
    {
      "cell_type": "code",
      "metadata": {
        "id": "PfwndQfaNsoj"
      },
      "source": [
        "class Net(nn.Module):\n",
        "    def __init__(self):\n",
        "        super(Net, self).__init__()\n",
        "        self.conv1 = nn.Conv2d(3, 16, kernel_size=3, padding=1)\n",
        "        self.act1 = nn.Tanh()\n",
        "        self.pool1 = nn.MaxPool2d(2)\n",
        "        self.conv2 = nn.Conv2d(16, 8, kernel_size=3, padding=1)\n",
        "        self.act2 = nn.Tanh()\n",
        "        self.pool2 = nn.MaxPool2d(2)\n",
        "        self.fc1 = nn.Linear(8 * 8 * 8, 32)\n",
        "        self.act4 = nn.Tanh()\n",
        "        self.fc2 = nn.Linear(32, 2)\n",
        "\n",
        "    def forward(self, x):\n",
        "        out = self.pool1(self.act1(self.conv1(x)))\n",
        "        out = self.pool2(self.act2(self.conv2(out)))\n",
        "        out = out.view(-1, 8 * 8 * 8)\n",
        "        out = self.act4(self.fc1(out))\n",
        "        out = self.fc2(out)\n",
        "        return out"
      ],
      "execution_count": 39,
      "outputs": []
    },
    {
      "cell_type": "code",
      "metadata": {
        "colab": {
          "base_uri": "https://localhost:8080/"
        },
        "id": "yJInqU5wNsok",
        "outputId": "aa3a0c98-096e-46e6-a79c-f3caf5e7cdeb"
      },
      "source": [
        "model = Net()\n",
        "\n",
        "sum([p.numel() for p in model.parameters()])"
      ],
      "execution_count": 40,
      "outputs": [
        {
          "output_type": "execute_result",
          "data": {
            "text/plain": [
              "18090"
            ]
          },
          "metadata": {
            "tags": []
          },
          "execution_count": 40
        }
      ]
    },
    {
      "cell_type": "code",
      "metadata": {
        "id": "HNIlUp8CNsok"
      },
      "source": [
        ""
      ],
      "execution_count": null,
      "outputs": []
    },
    {
      "cell_type": "code",
      "metadata": {
        "colab": {
          "base_uri": "https://localhost:8080/"
        },
        "id": "cXVYs5qpNsok",
        "outputId": "05ba0ad8-aeef-46d2-a146-d1c1539064fb"
      },
      "source": [
        "model = Net()\n",
        "model(img.unsqueeze(0))"
      ],
      "execution_count": 41,
      "outputs": [
        {
          "output_type": "execute_result",
          "data": {
            "text/plain": [
              "tensor([[ 0.0175, -0.1526]], grad_fn=<AddmmBackward>)"
            ]
          },
          "metadata": {
            "tags": []
          },
          "execution_count": 41
        }
      ]
    },
    {
      "cell_type": "markdown",
      "metadata": {
        "id": "32s5ZeVlaDRP"
      },
      "source": [
        "**Question 2 Part 1:**"
      ]
    },
    {
      "cell_type": "code",
      "metadata": {
        "colab": {
          "base_uri": "https://localhost:8080/"
        },
        "id": "zi8g2_7uNsok",
        "outputId": "c33e1f2b-4897-4f44-c35a-711d70e032e9"
      },
      "source": [
        "import torch\n",
        "import torch.nn as nn\n",
        "import torch.nn.functional as F\n",
        "import torch.optim as optim\n",
        "import time\n",
        "\n",
        "train_loader = torch.utils.data.DataLoader(cifar2, batch_size=64,shuffle=True)\n",
        "device = (torch.device('cuda') if torch.cuda.is_available() else torch.device('cpu'))\n",
        "print(\"Training on %s.\" % device)\n",
        "\n",
        "class Net(nn.Module):\n",
        "    def __init__(self):\n",
        "        super(Net, self).__init__()\n",
        "        self.conv1 = nn.Conv2d(3, 16, kernel_size=3, padding=1)\n",
        "        self.conv2 = nn.Conv2d(16, 8, kernel_size=3, padding=1)\n",
        "        self.fc1 = nn.Linear(8 * 8 * 8, 32)\n",
        "        self.fc2 = nn.Linear(32, 4)\n",
        "        \n",
        "    def forward(self, x):\n",
        "        out = F.max_pool2d(torch.relu(self.conv1(x)), 2)\n",
        "        out = F.max_pool2d(torch.relu(self.conv2(out)), 2)\n",
        "        out = out.view(-1, 8 * 8 * 8)\n",
        "        out = torch.tanh(self.fc1(out))\n",
        "        out = self.fc2(out)\n",
        "        return out\n",
        "    \n",
        "model = Net()\n",
        "if torch.cuda.is_available():\n",
        "    model.cuda()\n",
        "\n",
        "learning_rate = 1e-2\n",
        "\n",
        "optimizer = optim.SGD(model.parameters(), lr=learning_rate)\n",
        "\n",
        "loss_fn = nn.CrossEntropyLoss()\n",
        "\n",
        "n_epochs = 200\n",
        "\n",
        "t = time.time()\n",
        "\n",
        "for epoch in range(n_epochs):\n",
        "    for imgs, labels in train_loader:\n",
        "        imgs = imgs.to(device=device)\n",
        "        labels = labels.to(device=device)\n",
        "        outputs = model(imgs)\n",
        "        loss = loss_fn(outputs, labels)\n",
        "                \n",
        "        optimizer.zero_grad()\n",
        "        loss.backward()\n",
        "        optimizer.step()\n",
        "\n",
        "    print(\"Epoch: %d, Loss: %f\" % (epoch, float(loss)))\n",
        "elapsed = time.time() - t\n",
        "print(\"Elapsed Training Time: %s\" % elapsed)"
      ],
      "execution_count": 42,
      "outputs": [
        {
          "output_type": "stream",
          "text": [
            "Training on cuda.\n",
            "Epoch: 0, Loss: 1.098813\n",
            "Epoch: 1, Loss: 0.737105\n",
            "Epoch: 2, Loss: 0.702897\n",
            "Epoch: 3, Loss: 0.532809\n",
            "Epoch: 4, Loss: 0.694577\n",
            "Epoch: 5, Loss: 0.493176\n",
            "Epoch: 6, Loss: 0.797063\n",
            "Epoch: 7, Loss: 0.592678\n",
            "Epoch: 8, Loss: 0.557560\n",
            "Epoch: 9, Loss: 0.312157\n",
            "Epoch: 10, Loss: 0.438442\n",
            "Epoch: 11, Loss: 0.529617\n",
            "Epoch: 12, Loss: 0.421011\n",
            "Epoch: 13, Loss: 0.353759\n",
            "Epoch: 14, Loss: 0.424824\n",
            "Epoch: 15, Loss: 0.496984\n",
            "Epoch: 16, Loss: 0.213986\n",
            "Epoch: 17, Loss: 0.263669\n",
            "Epoch: 18, Loss: 0.224474\n",
            "Epoch: 19, Loss: 0.354286\n",
            "Epoch: 20, Loss: 0.167596\n",
            "Epoch: 21, Loss: 0.386157\n",
            "Epoch: 22, Loss: 0.444350\n",
            "Epoch: 23, Loss: 0.263629\n",
            "Epoch: 24, Loss: 0.311011\n",
            "Epoch: 25, Loss: 0.318216\n",
            "Epoch: 26, Loss: 0.504663\n",
            "Epoch: 27, Loss: 0.352319\n",
            "Epoch: 28, Loss: 0.449613\n",
            "Epoch: 29, Loss: 0.120360\n",
            "Epoch: 30, Loss: 0.255378\n",
            "Epoch: 31, Loss: 0.311483\n",
            "Epoch: 32, Loss: 0.172962\n",
            "Epoch: 33, Loss: 0.215175\n",
            "Epoch: 34, Loss: 0.428238\n",
            "Epoch: 35, Loss: 0.263389\n",
            "Epoch: 36, Loss: 0.177081\n",
            "Epoch: 37, Loss: 0.282921\n",
            "Epoch: 38, Loss: 0.175925\n",
            "Epoch: 39, Loss: 0.110001\n",
            "Epoch: 40, Loss: 0.205092\n",
            "Epoch: 41, Loss: 0.091150\n",
            "Epoch: 42, Loss: 0.095219\n",
            "Epoch: 43, Loss: 0.121420\n",
            "Epoch: 44, Loss: 0.234195\n",
            "Epoch: 45, Loss: 0.055055\n",
            "Epoch: 46, Loss: 0.209116\n",
            "Epoch: 47, Loss: 0.069922\n",
            "Epoch: 48, Loss: 0.361642\n",
            "Epoch: 49, Loss: 0.275820\n",
            "Epoch: 50, Loss: 0.078593\n",
            "Epoch: 51, Loss: 0.090905\n",
            "Epoch: 52, Loss: 0.170742\n",
            "Epoch: 53, Loss: 0.045038\n",
            "Epoch: 54, Loss: 0.165476\n",
            "Epoch: 55, Loss: 0.081537\n",
            "Epoch: 56, Loss: 0.205929\n",
            "Epoch: 57, Loss: 0.108119\n",
            "Epoch: 58, Loss: 0.209380\n",
            "Epoch: 59, Loss: 0.107326\n",
            "Epoch: 60, Loss: 0.150414\n",
            "Epoch: 61, Loss: 0.119924\n",
            "Epoch: 62, Loss: 0.026064\n",
            "Epoch: 63, Loss: 0.056347\n",
            "Epoch: 64, Loss: 0.031147\n",
            "Epoch: 65, Loss: 0.179417\n",
            "Epoch: 66, Loss: 0.127488\n",
            "Epoch: 67, Loss: 0.224187\n",
            "Epoch: 68, Loss: 0.061403\n",
            "Epoch: 69, Loss: 0.107569\n",
            "Epoch: 70, Loss: 0.049323\n",
            "Epoch: 71, Loss: 0.228319\n",
            "Epoch: 72, Loss: 0.106790\n",
            "Epoch: 73, Loss: 0.068665\n",
            "Epoch: 74, Loss: 0.174593\n",
            "Epoch: 75, Loss: 0.025862\n",
            "Epoch: 76, Loss: 0.225282\n",
            "Epoch: 77, Loss: 0.146034\n",
            "Epoch: 78, Loss: 0.036503\n",
            "Epoch: 79, Loss: 0.045389\n",
            "Epoch: 80, Loss: 0.059127\n",
            "Epoch: 81, Loss: 0.014150\n",
            "Epoch: 82, Loss: 0.055036\n",
            "Epoch: 83, Loss: 0.033184\n",
            "Epoch: 84, Loss: 0.058958\n",
            "Epoch: 85, Loss: 0.170312\n",
            "Epoch: 86, Loss: 0.075260\n",
            "Epoch: 87, Loss: 0.072154\n",
            "Epoch: 88, Loss: 0.015818\n",
            "Epoch: 89, Loss: 0.089986\n",
            "Epoch: 90, Loss: 0.094242\n",
            "Epoch: 91, Loss: 0.044602\n",
            "Epoch: 92, Loss: 0.025234\n",
            "Epoch: 93, Loss: 0.053367\n",
            "Epoch: 94, Loss: 0.136007\n",
            "Epoch: 95, Loss: 0.037300\n",
            "Epoch: 96, Loss: 0.031415\n",
            "Epoch: 97, Loss: 0.034391\n",
            "Epoch: 98, Loss: 0.037066\n",
            "Epoch: 99, Loss: 0.026167\n",
            "Epoch: 100, Loss: 0.131312\n",
            "Epoch: 101, Loss: 0.048534\n",
            "Epoch: 102, Loss: 0.052483\n",
            "Epoch: 103, Loss: 0.023694\n",
            "Epoch: 104, Loss: 0.016082\n",
            "Epoch: 105, Loss: 0.024292\n",
            "Epoch: 106, Loss: 0.020814\n",
            "Epoch: 107, Loss: 0.050098\n",
            "Epoch: 108, Loss: 0.027492\n",
            "Epoch: 109, Loss: 0.004746\n",
            "Epoch: 110, Loss: 0.031976\n",
            "Epoch: 111, Loss: 0.013697\n",
            "Epoch: 112, Loss: 0.017531\n",
            "Epoch: 113, Loss: 0.046471\n",
            "Epoch: 114, Loss: 0.028028\n",
            "Epoch: 115, Loss: 0.015686\n",
            "Epoch: 116, Loss: 0.011399\n",
            "Epoch: 117, Loss: 0.023928\n",
            "Epoch: 118, Loss: 0.013676\n",
            "Epoch: 119, Loss: 0.021226\n",
            "Epoch: 120, Loss: 0.033619\n",
            "Epoch: 121, Loss: 0.048019\n",
            "Epoch: 122, Loss: 0.016549\n",
            "Epoch: 123, Loss: 0.038997\n",
            "Epoch: 124, Loss: 0.019663\n",
            "Epoch: 125, Loss: 0.024595\n",
            "Epoch: 126, Loss: 0.019286\n",
            "Epoch: 127, Loss: 0.024796\n",
            "Epoch: 128, Loss: 0.009323\n",
            "Epoch: 129, Loss: 0.026546\n",
            "Epoch: 130, Loss: 0.016134\n",
            "Epoch: 131, Loss: 0.010690\n",
            "Epoch: 132, Loss: 0.032108\n",
            "Epoch: 133, Loss: 0.021144\n",
            "Epoch: 134, Loss: 0.009173\n",
            "Epoch: 135, Loss: 0.005777\n",
            "Epoch: 136, Loss: 0.013478\n",
            "Epoch: 137, Loss: 0.009434\n",
            "Epoch: 138, Loss: 0.004790\n",
            "Epoch: 139, Loss: 0.028639\n",
            "Epoch: 140, Loss: 0.015011\n",
            "Epoch: 141, Loss: 0.007727\n",
            "Epoch: 142, Loss: 0.012727\n",
            "Epoch: 143, Loss: 0.004017\n",
            "Epoch: 144, Loss: 0.004373\n",
            "Epoch: 145, Loss: 0.017635\n",
            "Epoch: 146, Loss: 0.013671\n",
            "Epoch: 147, Loss: 0.004002\n",
            "Epoch: 148, Loss: 0.034303\n",
            "Epoch: 149, Loss: 0.004575\n",
            "Epoch: 150, Loss: 0.006177\n",
            "Epoch: 151, Loss: 0.015890\n",
            "Epoch: 152, Loss: 0.015179\n",
            "Epoch: 153, Loss: 0.014417\n",
            "Epoch: 154, Loss: 0.006655\n",
            "Epoch: 155, Loss: 0.012737\n",
            "Epoch: 156, Loss: 0.011788\n",
            "Epoch: 157, Loss: 0.009223\n",
            "Epoch: 158, Loss: 0.012633\n",
            "Epoch: 159, Loss: 0.003591\n",
            "Epoch: 160, Loss: 0.008465\n",
            "Epoch: 161, Loss: 0.007356\n",
            "Epoch: 162, Loss: 0.009766\n",
            "Epoch: 163, Loss: 0.013310\n",
            "Epoch: 164, Loss: 0.006266\n",
            "Epoch: 165, Loss: 0.011562\n",
            "Epoch: 166, Loss: 0.012952\n",
            "Epoch: 167, Loss: 0.011708\n",
            "Epoch: 168, Loss: 0.005875\n",
            "Epoch: 169, Loss: 0.117703\n",
            "Epoch: 170, Loss: 0.005814\n",
            "Epoch: 171, Loss: 0.014627\n",
            "Epoch: 172, Loss: 0.005956\n",
            "Epoch: 173, Loss: 0.013054\n",
            "Epoch: 174, Loss: 0.014882\n",
            "Epoch: 175, Loss: 0.002890\n",
            "Epoch: 176, Loss: 0.020172\n",
            "Epoch: 177, Loss: 0.008974\n",
            "Epoch: 178, Loss: 0.012495\n",
            "Epoch: 179, Loss: 0.012869\n",
            "Epoch: 180, Loss: 0.012657\n",
            "Epoch: 181, Loss: 0.003162\n",
            "Epoch: 182, Loss: 0.013693\n",
            "Epoch: 183, Loss: 0.006972\n",
            "Epoch: 184, Loss: 0.009088\n",
            "Epoch: 185, Loss: 0.011540\n",
            "Epoch: 186, Loss: 0.029110\n",
            "Epoch: 187, Loss: 0.003643\n",
            "Epoch: 188, Loss: 0.011313\n",
            "Epoch: 189, Loss: 0.004834\n",
            "Epoch: 190, Loss: 0.005069\n",
            "Epoch: 191, Loss: 0.012123\n",
            "Epoch: 192, Loss: 0.004752\n",
            "Epoch: 193, Loss: 0.014521\n",
            "Epoch: 194, Loss: 0.002701\n",
            "Epoch: 195, Loss: 0.002230\n",
            "Epoch: 196, Loss: 0.008071\n",
            "Epoch: 197, Loss: 0.014820\n",
            "Epoch: 198, Loss: 0.005687\n",
            "Epoch: 199, Loss: 0.004376\n",
            "Elapsed Training Time: 124.81433081626892\n"
          ],
          "name": "stdout"
        }
      ]
    },
    {
      "cell_type": "code",
      "metadata": {
        "colab": {
          "base_uri": "https://localhost:8080/"
        },
        "id": "hZCtEenDNsol",
        "outputId": "e0dfc916-6d68-4a23-eda4-9c27f524aafb"
      },
      "source": [
        "train_loader = torch.utils.data.DataLoader(cifar2, batch_size=64,\n",
        "                                           shuffle=False)\n",
        "device = (torch.device('cuda') if torch.cuda.is_available() else torch.device('cpu'))\n",
        "print(\"Using %s.\" % device)\n",
        "\n",
        "correct = 0\n",
        "total = 0\n",
        "\n",
        "with torch.no_grad():\n",
        "    for imgs, labels in train_loader:\n",
        "        imgs = imgs.to(device=device)\n",
        "        labels = labels.to(device=device)\n",
        "        outputs = model(imgs)\n",
        "        _, predicted = torch.max(outputs, dim=1)\n",
        "        total += labels.shape[0]\n",
        "        correct += int((predicted == labels).sum())\n",
        "        \n",
        "print(\"Accuracy: %f\" % (correct / total))"
      ],
      "execution_count": 43,
      "outputs": [
        {
          "output_type": "stream",
          "text": [
            "Using cuda.\n",
            "Accuracy: 0.998650\n"
          ],
          "name": "stdout"
        }
      ]
    },
    {
      "cell_type": "code",
      "metadata": {
        "colab": {
          "base_uri": "https://localhost:8080/"
        },
        "id": "aS6Tor80Nsom",
        "outputId": "0c955283-f141-46a8-f2a7-aec573dd7667"
      },
      "source": [
        "val_loader = torch.utils.data.DataLoader(cifar2_val, batch_size=64,\n",
        "                                         shuffle=False)\n",
        "device = (torch.device('cuda') if torch.cuda.is_available() else torch.device('cpu'))\n",
        "print(\"Using %s.\" % device)\n",
        "\n",
        "correct = 0\n",
        "total = 0\n",
        "\n",
        "with torch.no_grad():\n",
        "    for imgs, labels in val_loader:\n",
        "        imgs = imgs.to(device=device)\n",
        "        labels = labels.to(device=device)\n",
        "        outputs = model(imgs)\n",
        "        _, predicted = torch.max(outputs, dim=1)\n",
        "        total += labels.shape[0]\n",
        "        correct += int((predicted == labels).sum())\n",
        "        \n",
        "print(\"Accuracy: %f\" % (correct / total))"
      ],
      "execution_count": 44,
      "outputs": [
        {
          "output_type": "stream",
          "text": [
            "Using cuda.\n",
            "Accuracy: 0.898750\n"
          ],
          "name": "stdout"
        }
      ]
    },
    {
      "cell_type": "markdown",
      "metadata": {
        "id": "QPu_qyT6ap1Y"
      },
      "source": [
        "**Question 2 Part 2:**"
      ]
    },
    {
      "cell_type": "code",
      "metadata": {
        "id": "R6tcdpXUui7b"
      },
      "source": [
        "class_names = ['airplane','automobile','bird','cat','deer',\n",
        "               'dog','frog','horse','ship','truck']"
      ],
      "execution_count": 45,
      "outputs": []
    },
    {
      "cell_type": "code",
      "metadata": {
        "colab": {
          "base_uri": "https://localhost:8080/"
        },
        "id": "KM49xTwJukQt",
        "outputId": "62af724a-61e5-43ee-fdcf-0cfc9cae7459"
      },
      "source": [
        "from torchvision import datasets, transforms\n",
        "data_path = '../data-unversioned/p1ch7/'\n",
        "cifar10 = datasets.CIFAR10(\n",
        "    data_path, train=True, download=True,\n",
        "    transform=transforms.Compose([\n",
        "        transforms.ToTensor(),\n",
        "        transforms.Normalize((0.4915, 0.4823, 0.4468),\n",
        "                             (0.2470, 0.2435, 0.2616))\n",
        "    ]))"
      ],
      "execution_count": 46,
      "outputs": [
        {
          "output_type": "stream",
          "text": [
            "Files already downloaded and verified\n"
          ],
          "name": "stdout"
        }
      ]
    },
    {
      "cell_type": "code",
      "metadata": {
        "id": "eGiYGecvukFx"
      },
      "source": [
        "cifar10_val = datasets.CIFAR10(\n",
        "    data_path, train=False, download=False,\n",
        "    transform=transforms.Compose([\n",
        "        transforms.ToTensor(),\n",
        "        transforms.Normalize((0.4915, 0.4823, 0.4468),\n",
        "                             (0.2470, 0.2435, 0.2616))\n",
        "    ]))"
      ],
      "execution_count": 47,
      "outputs": []
    },
    {
      "cell_type": "code",
      "metadata": {
        "id": "dyWIZeEKauJU"
      },
      "source": [
        "label_map = {0: 0, 1: 1, 2: 2, 3: 3, 4: 4, 5: 5, 6: 6, 7: 7, 8: 8, 9: 9}\n",
        "class_names = ['airplane','automobile','bird','cat','deer',\n",
        "               'dog','frog','horse','ship','truck']\n",
        "cifar2 = [(img, label_map[label])\n",
        "          for img, label in cifar10 \n",
        "          if label in [0, 1, 2, 3, 4, 5, 6, 7, 8, 9]]\n",
        "cifar2_val = [(img, label_map[label])\n",
        "              for img, label in cifar10_val\n",
        "              if label in [0, 1, 2, 3, 4, 5, 6, 7, 8, 9]]"
      ],
      "execution_count": 48,
      "outputs": []
    },
    {
      "cell_type": "code",
      "metadata": {
        "colab": {
          "base_uri": "https://localhost:8080/"
        },
        "id": "6jTkZFq0Nsom",
        "outputId": "0f9cafda-70f6-46b1-ea30-c72491a07d5a"
      },
      "source": [
        "import torch\n",
        "import torch.nn as nn\n",
        "import torch.nn.functional as F\n",
        "import torch.optim as optim\n",
        "import time\n",
        "\n",
        "train_loader = torch.utils.data.DataLoader(cifar2, batch_size=64,\n",
        "                                           shuffle=True)\n",
        "device = (torch.device('cuda') if torch.cuda.is_available() else torch.device('cpu'))\n",
        "print(\"Training on %s.\" % device)\n",
        "\n",
        "class Net(nn.Module):\n",
        "    def __init__(self):\n",
        "        super(Net, self).__init__()\n",
        "        self.conv1 = nn.Conv2d(3, 16, kernel_size=3, padding=1)\n",
        "        self.conv2 = nn.Conv2d(16, 8, kernel_size=3, padding=1)\n",
        "        self.fc1 = nn.Linear(8 * 8 * 8, 32)\n",
        "        self.fc2 = nn.Linear(32, 10)\n",
        "        \n",
        "    def forward(self, x):\n",
        "        out = F.max_pool2d(torch.relu(self.conv1(x)), 2)\n",
        "        out = F.max_pool2d(torch.relu(self.conv2(out)), 2)\n",
        "        out = out.view(-1, 8 * 8 * 8)\n",
        "        out = torch.tanh(self.fc1(out))\n",
        "        out = self.fc2(out)\n",
        "        return out\n",
        "    \n",
        "model = Net()\n",
        "\n",
        "if torch.cuda.is_available():\n",
        "    model.cuda()\n",
        "\n",
        "learning_rate = 1e-2\n",
        "\n",
        "optimizer = optim.SGD(model.parameters(), lr=learning_rate)\n",
        "\n",
        "loss_fn = nn.CrossEntropyLoss()\n",
        "\n",
        "n_epochs = 200\n",
        "\n",
        "t = time.time()\n",
        "\n",
        "for epoch in range(n_epochs):\n",
        "    for imgs, labels in train_loader:\n",
        "        imgs = imgs.to(device=device)\n",
        "        labels = labels.to(device=device)\n",
        "        outputs = model(imgs)\n",
        "        loss = loss_fn(outputs, labels)\n",
        "                \n",
        "        optimizer.zero_grad()\n",
        "        loss.backward()\n",
        "        optimizer.step()\n",
        "\n",
        "    print(\"Epoch: %d, Loss: %f\" % (epoch, float(loss)))\n",
        "elapsed = time.time() - t\n",
        "print(\"Elapsed Training Time: %s\" % elapsed)"
      ],
      "execution_count": 49,
      "outputs": [
        {
          "output_type": "stream",
          "text": [
            "Training on cuda.\n",
            "Epoch: 0, Loss: 1.944742\n",
            "Epoch: 1, Loss: 1.836574\n",
            "Epoch: 2, Loss: 1.329604\n",
            "Epoch: 3, Loss: 0.990800\n",
            "Epoch: 4, Loss: 1.356710\n",
            "Epoch: 5, Loss: 1.105756\n",
            "Epoch: 6, Loss: 1.176264\n",
            "Epoch: 7, Loss: 1.055281\n",
            "Epoch: 8, Loss: 1.385860\n",
            "Epoch: 9, Loss: 1.275826\n",
            "Epoch: 10, Loss: 1.002669\n",
            "Epoch: 11, Loss: 0.928109\n",
            "Epoch: 12, Loss: 1.099044\n",
            "Epoch: 13, Loss: 1.454239\n",
            "Epoch: 14, Loss: 1.076513\n",
            "Epoch: 15, Loss: 0.754186\n",
            "Epoch: 16, Loss: 0.751196\n",
            "Epoch: 17, Loss: 1.088191\n",
            "Epoch: 18, Loss: 0.885515\n",
            "Epoch: 19, Loss: 1.413347\n",
            "Epoch: 20, Loss: 1.058279\n",
            "Epoch: 21, Loss: 0.850341\n",
            "Epoch: 22, Loss: 1.210542\n",
            "Epoch: 23, Loss: 1.074181\n",
            "Epoch: 24, Loss: 0.527035\n",
            "Epoch: 25, Loss: 0.988931\n",
            "Epoch: 26, Loss: 0.770287\n",
            "Epoch: 27, Loss: 0.906674\n",
            "Epoch: 28, Loss: 0.682707\n",
            "Epoch: 29, Loss: 0.695749\n",
            "Epoch: 30, Loss: 1.280113\n",
            "Epoch: 31, Loss: 1.135671\n",
            "Epoch: 32, Loss: 0.625862\n",
            "Epoch: 33, Loss: 0.741362\n",
            "Epoch: 34, Loss: 0.644328\n",
            "Epoch: 35, Loss: 1.227960\n",
            "Epoch: 36, Loss: 0.940071\n",
            "Epoch: 37, Loss: 0.543236\n",
            "Epoch: 38, Loss: 0.756610\n",
            "Epoch: 39, Loss: 0.699007\n",
            "Epoch: 40, Loss: 0.982059\n",
            "Epoch: 41, Loss: 0.736423\n",
            "Epoch: 42, Loss: 0.948404\n",
            "Epoch: 43, Loss: 1.083974\n",
            "Epoch: 44, Loss: 0.442214\n",
            "Epoch: 45, Loss: 1.392534\n",
            "Epoch: 46, Loss: 1.033102\n",
            "Epoch: 47, Loss: 0.870358\n",
            "Epoch: 48, Loss: 0.820307\n",
            "Epoch: 49, Loss: 0.727670\n",
            "Epoch: 50, Loss: 0.661061\n",
            "Epoch: 51, Loss: 0.573771\n",
            "Epoch: 52, Loss: 1.036876\n",
            "Epoch: 53, Loss: 1.102702\n",
            "Epoch: 54, Loss: 0.862875\n",
            "Epoch: 55, Loss: 0.583028\n",
            "Epoch: 56, Loss: 0.967404\n",
            "Epoch: 57, Loss: 0.574845\n",
            "Epoch: 58, Loss: 0.530082\n",
            "Epoch: 59, Loss: 0.965440\n",
            "Epoch: 60, Loss: 0.955876\n",
            "Epoch: 61, Loss: 1.039903\n",
            "Epoch: 62, Loss: 1.026991\n",
            "Epoch: 63, Loss: 0.768247\n",
            "Epoch: 64, Loss: 0.607791\n",
            "Epoch: 65, Loss: 0.383213\n",
            "Epoch: 66, Loss: 0.833621\n",
            "Epoch: 67, Loss: 0.639656\n",
            "Epoch: 68, Loss: 1.173735\n",
            "Epoch: 69, Loss: 0.383498\n",
            "Epoch: 70, Loss: 0.818309\n",
            "Epoch: 71, Loss: 0.803258\n",
            "Epoch: 72, Loss: 0.523417\n",
            "Epoch: 73, Loss: 0.606597\n",
            "Epoch: 74, Loss: 0.847836\n",
            "Epoch: 75, Loss: 0.834218\n",
            "Epoch: 76, Loss: 0.918676\n",
            "Epoch: 77, Loss: 0.413365\n",
            "Epoch: 78, Loss: 0.640372\n",
            "Epoch: 79, Loss: 0.799882\n",
            "Epoch: 80, Loss: 0.644707\n",
            "Epoch: 81, Loss: 0.912956\n",
            "Epoch: 82, Loss: 1.130740\n",
            "Epoch: 83, Loss: 0.343285\n",
            "Epoch: 84, Loss: 1.415528\n",
            "Epoch: 85, Loss: 0.630405\n",
            "Epoch: 86, Loss: 0.915801\n",
            "Epoch: 87, Loss: 0.502537\n",
            "Epoch: 88, Loss: 1.630988\n",
            "Epoch: 89, Loss: 0.495533\n",
            "Epoch: 90, Loss: 0.521457\n",
            "Epoch: 91, Loss: 0.319975\n",
            "Epoch: 92, Loss: 0.378121\n",
            "Epoch: 93, Loss: 0.940829\n",
            "Epoch: 94, Loss: 0.612462\n",
            "Epoch: 95, Loss: 0.719024\n",
            "Epoch: 96, Loss: 0.853001\n",
            "Epoch: 97, Loss: 0.968860\n",
            "Epoch: 98, Loss: 0.878951\n",
            "Epoch: 99, Loss: 0.245759\n",
            "Epoch: 100, Loss: 0.875792\n",
            "Epoch: 101, Loss: 0.417030\n",
            "Epoch: 102, Loss: 0.977701\n",
            "Epoch: 103, Loss: 0.503286\n",
            "Epoch: 104, Loss: 0.473098\n",
            "Epoch: 105, Loss: 0.348864\n",
            "Epoch: 106, Loss: 0.489179\n",
            "Epoch: 107, Loss: 0.546263\n",
            "Epoch: 108, Loss: 0.197614\n",
            "Epoch: 109, Loss: 0.420085\n",
            "Epoch: 110, Loss: 1.411268\n",
            "Epoch: 111, Loss: 0.401840\n",
            "Epoch: 112, Loss: 1.023716\n",
            "Epoch: 113, Loss: 0.456266\n",
            "Epoch: 114, Loss: 0.396694\n",
            "Epoch: 115, Loss: 0.719284\n",
            "Epoch: 116, Loss: 1.189502\n",
            "Epoch: 117, Loss: 0.660323\n",
            "Epoch: 118, Loss: 0.490263\n",
            "Epoch: 119, Loss: 0.562759\n",
            "Epoch: 120, Loss: 0.985016\n",
            "Epoch: 121, Loss: 0.495557\n",
            "Epoch: 122, Loss: 0.776831\n",
            "Epoch: 123, Loss: 0.193010\n",
            "Epoch: 124, Loss: 0.392861\n",
            "Epoch: 125, Loss: 0.701256\n",
            "Epoch: 126, Loss: 0.778958\n",
            "Epoch: 127, Loss: 0.970705\n",
            "Epoch: 128, Loss: 0.708969\n",
            "Epoch: 129, Loss: 0.415802\n",
            "Epoch: 130, Loss: 0.755556\n",
            "Epoch: 131, Loss: 1.093299\n",
            "Epoch: 132, Loss: 0.317630\n",
            "Epoch: 133, Loss: 0.617185\n",
            "Epoch: 134, Loss: 0.484998\n",
            "Epoch: 135, Loss: 0.606509\n",
            "Epoch: 136, Loss: 0.625758\n",
            "Epoch: 137, Loss: 0.683763\n",
            "Epoch: 138, Loss: 0.374799\n",
            "Epoch: 139, Loss: 0.425212\n",
            "Epoch: 140, Loss: 0.609115\n",
            "Epoch: 141, Loss: 0.679940\n",
            "Epoch: 142, Loss: 0.519194\n",
            "Epoch: 143, Loss: 0.379855\n",
            "Epoch: 144, Loss: 0.586824\n",
            "Epoch: 145, Loss: 0.847390\n",
            "Epoch: 146, Loss: 0.911684\n",
            "Epoch: 147, Loss: 0.367995\n",
            "Epoch: 148, Loss: 0.782767\n",
            "Epoch: 149, Loss: 0.338794\n",
            "Epoch: 150, Loss: 0.797623\n",
            "Epoch: 151, Loss: 0.308271\n",
            "Epoch: 152, Loss: 0.701124\n",
            "Epoch: 153, Loss: 0.348461\n",
            "Epoch: 154, Loss: 0.760687\n",
            "Epoch: 155, Loss: 0.338074\n",
            "Epoch: 156, Loss: 0.562880\n",
            "Epoch: 157, Loss: 0.523019\n",
            "Epoch: 158, Loss: 0.810058\n",
            "Epoch: 159, Loss: 0.445320\n",
            "Epoch: 160, Loss: 0.498207\n",
            "Epoch: 161, Loss: 0.415402\n",
            "Epoch: 162, Loss: 0.268765\n",
            "Epoch: 163, Loss: 0.331672\n",
            "Epoch: 164, Loss: 0.653887\n",
            "Epoch: 165, Loss: 0.587452\n",
            "Epoch: 166, Loss: 0.454475\n",
            "Epoch: 167, Loss: 0.617934\n",
            "Epoch: 168, Loss: 0.578509\n",
            "Epoch: 169, Loss: 0.425783\n",
            "Epoch: 170, Loss: 0.377364\n",
            "Epoch: 171, Loss: 0.348248\n",
            "Epoch: 172, Loss: 0.108061\n",
            "Epoch: 173, Loss: 0.695322\n",
            "Epoch: 174, Loss: 0.621525\n",
            "Epoch: 175, Loss: 0.720491\n",
            "Epoch: 176, Loss: 0.410371\n",
            "Epoch: 177, Loss: 0.523304\n",
            "Epoch: 178, Loss: 0.580081\n",
            "Epoch: 179, Loss: 0.570264\n",
            "Epoch: 180, Loss: 0.571220\n",
            "Epoch: 181, Loss: 0.367712\n",
            "Epoch: 182, Loss: 0.211866\n",
            "Epoch: 183, Loss: 0.492238\n",
            "Epoch: 184, Loss: 0.594549\n",
            "Epoch: 185, Loss: 0.684921\n",
            "Epoch: 186, Loss: 0.463601\n",
            "Epoch: 187, Loss: 0.362783\n",
            "Epoch: 188, Loss: 1.045985\n",
            "Epoch: 189, Loss: 0.346521\n",
            "Epoch: 190, Loss: 0.578782\n",
            "Epoch: 191, Loss: 0.254635\n",
            "Epoch: 192, Loss: 0.570154\n",
            "Epoch: 193, Loss: 0.961039\n",
            "Epoch: 194, Loss: 0.626591\n",
            "Epoch: 195, Loss: 0.521199\n",
            "Epoch: 196, Loss: 0.317555\n",
            "Epoch: 197, Loss: 0.272180\n",
            "Epoch: 198, Loss: 0.717085\n",
            "Epoch: 199, Loss: 0.386734\n",
            "Elapsed Training Time: 313.5781855583191\n"
          ],
          "name": "stdout"
        }
      ]
    },
    {
      "cell_type": "code",
      "metadata": {
        "colab": {
          "base_uri": "https://localhost:8080/"
        },
        "id": "pJmZ2zchbEl4",
        "outputId": "2c2d5aef-83c9-42e7-fab4-1fe024378c0c"
      },
      "source": [
        "train_loader = torch.utils.data.DataLoader(cifar2, batch_size=64,\n",
        "                                           shuffle=False)\n",
        "device = (torch.device('cuda') if torch.cuda.is_available() else torch.device('cpu'))\n",
        "print(\"Using %s.\" % device)\n",
        "\n",
        "correct = 0\n",
        "total = 0\n",
        "\n",
        "with torch.no_grad():\n",
        "    for imgs, labels in train_loader:\n",
        "        imgs = imgs.to(device=device)\n",
        "        labels = labels.to(device=device)\n",
        "        outputs = model(imgs)\n",
        "        _, predicted = torch.max(outputs, dim=1)\n",
        "        total += labels.shape[0]\n",
        "        correct += int((predicted == labels).sum())\n",
        "        \n",
        "print(\"Accuracy: %f\" % (correct / total))"
      ],
      "execution_count": 50,
      "outputs": [
        {
          "output_type": "stream",
          "text": [
            "Using cuda.\n",
            "Accuracy: 0.800920\n"
          ],
          "name": "stdout"
        }
      ]
    },
    {
      "cell_type": "code",
      "metadata": {
        "colab": {
          "base_uri": "https://localhost:8080/"
        },
        "id": "SFEHmarGbJGI",
        "outputId": "92aa2496-023b-4a98-a64e-e60dbcdca0a6"
      },
      "source": [
        "val_loader = torch.utils.data.DataLoader(cifar2_val, batch_size=64,\n",
        "                                         shuffle=False)\n",
        "device = (torch.device('cuda') if torch.cuda.is_available() else torch.device('cpu'))\n",
        "print(\"Using %s.\" % device)\n",
        "\n",
        "correct = 0\n",
        "total = 0\n",
        "\n",
        "with torch.no_grad():\n",
        "    for imgs, labels in val_loader:\n",
        "        imgs = imgs.to(device=device)\n",
        "        labels = labels.to(device=device)\n",
        "        outputs = model(imgs)\n",
        "        _, predicted = torch.max(outputs, dim=1)\n",
        "        total += labels.shape[0]\n",
        "        correct += int((predicted == labels).sum())\n",
        "        \n",
        "print(\"Accuracy: %f\" % (correct / total))"
      ],
      "execution_count": 51,
      "outputs": [
        {
          "output_type": "stream",
          "text": [
            "Using cuda.\n",
            "Accuracy: 0.604700\n"
          ],
          "name": "stdout"
        }
      ]
    },
    {
      "cell_type": "markdown",
      "metadata": {
        "id": "b9qePswBbK2j"
      },
      "source": [
        "**Question 2 Part 3:**"
      ]
    },
    {
      "cell_type": "code",
      "metadata": {
        "id": "9DBZXXTf6ZyP"
      },
      "source": [
        "import torch.nn.functional as F\n",
        "\n",
        "class Net(nn.Module):\n",
        "    def __init__(self):\n",
        "        super(Net, self).__init__()\n",
        "        self.conv1 = nn.Conv2d(3, 32, kernel_size=3, padding=1)\n",
        "        self.conv2 = nn.Conv2d(32, 16, kernel_size=3, padding=1)\n",
        "        self.conv3 = nn.Conv2d(16, 16, kernel_size=3, padding=1)\n",
        "        self.fc1 = nn.Linear(4 * 4 * 16, 32)\n",
        "        self.fc2 = nn.Linear(32, 10)\n",
        "        \n",
        "    def forward(self, x):\n",
        "        out = F.max_pool2d(torch.relu(self.conv1(x)), 2)\n",
        "        out = F.max_pool2d(torch.relu(self.conv2(out)), 2)\n",
        "        out = F.max_pool2d(torch.relu(self.conv3(out)), 2)\n",
        "        out = out.view(-1, 4 * 4 * 16)\n",
        "        out = torch.tanh(self.fc1(out))\n",
        "        out = self.fc2(out)\n",
        "        return out"
      ],
      "execution_count": 52,
      "outputs": []
    },
    {
      "cell_type": "code",
      "metadata": {
        "id": "vvW8qiZkVWAx"
      },
      "source": [
        "model = Net()\n",
        "#model(img.unsqueeze(0))"
      ],
      "execution_count": 53,
      "outputs": []
    },
    {
      "cell_type": "code",
      "metadata": {
        "colab": {
          "base_uri": "https://localhost:8080/"
        },
        "id": "OseJBDGDbn5r",
        "outputId": "dd27f240-c22c-44f5-8b48-5c7ec6636360"
      },
      "source": [
        "import torch\n",
        "import torch.nn as nn\n",
        "import torch.nn.functional as F\n",
        "\n",
        "train_loader = torch.utils.data.DataLoader(cifar2, batch_size=64,\n",
        "                                           shuffle=True)\n",
        "device = (torch.device('cuda') if torch.cuda.is_available() else torch.device('cpu'))\n",
        "print(\"Training on %s.\" % device)\n",
        "\n",
        "class Net(nn.Module):\n",
        "    def __init__(self):\n",
        "        super(Net, self).__init__()\n",
        "        self.conv1 = nn.Conv2d(3, 32, kernel_size=3, padding=1)\n",
        "        self.conv2 = nn.Conv2d(32, 16, kernel_size=3, padding=1)\n",
        "        self.conv3 = nn.Conv2d(16, 16, kernel_size=3, padding=1)\n",
        "        self.fc1 = nn.Linear(4 * 4 * 16, 32)\n",
        "        self.fc2 = nn.Linear(32, 10)\n",
        "        \n",
        "    def forward(self, x):\n",
        "        out = F.max_pool2d(torch.relu(self.conv1(x)), 2)\n",
        "        out = F.max_pool2d(torch.relu(self.conv2(out)), 2)\n",
        "        out = F.max_pool2d(torch.relu(self.conv3(out)), 2)\n",
        "        out = out.view(-1, 4 * 4 * 16)\n",
        "        out = torch.tanh(self.fc1(out))\n",
        "        out = self.fc2(out)\n",
        "        return out\n",
        "    \n",
        "model = Net()\n",
        "\n",
        "if torch.cuda.is_available():\n",
        "    model.cuda()\n",
        "\n",
        "learning_rate = 1e-2\n",
        "\n",
        "optimizer = optim.SGD(model.parameters(), lr=learning_rate)\n",
        "\n",
        "loss_fn = nn.CrossEntropyLoss()\n",
        "\n",
        "n_epochs = 200\n",
        "\n",
        "t = time.time()\n",
        "\n",
        "for epoch in range(n_epochs):\n",
        "    for imgs, labels in train_loader:\n",
        "        imgs = imgs.to(device=device)\n",
        "        labels = labels.to(device=device)\n",
        "        outputs = model(imgs)\n",
        "        loss = loss_fn(outputs, labels)\n",
        "                \n",
        "        optimizer.zero_grad()\n",
        "        loss.backward()\n",
        "        optimizer.step()\n",
        "\n",
        "    print(\"Epoch: %d, Loss: %f\" % (epoch, float(loss)))\n",
        "elapsed = time.time() - t\n",
        "print(\"Elapsed Training Time: %s\" % elapsed)"
      ],
      "execution_count": 54,
      "outputs": [
        {
          "output_type": "stream",
          "text": [
            "Training on cuda.\n",
            "Epoch: 0, Loss: 2.010870\n",
            "Epoch: 1, Loss: 1.934708\n",
            "Epoch: 2, Loss: 1.846900\n",
            "Epoch: 3, Loss: 1.645098\n",
            "Epoch: 4, Loss: 1.339199\n",
            "Epoch: 5, Loss: 1.252520\n",
            "Epoch: 6, Loss: 1.497247\n",
            "Epoch: 7, Loss: 1.232819\n",
            "Epoch: 8, Loss: 0.822125\n",
            "Epoch: 9, Loss: 1.048250\n",
            "Epoch: 10, Loss: 1.188051\n",
            "Epoch: 11, Loss: 1.014526\n",
            "Epoch: 12, Loss: 0.938415\n",
            "Epoch: 13, Loss: 1.620400\n",
            "Epoch: 14, Loss: 1.552605\n",
            "Epoch: 15, Loss: 1.193309\n",
            "Epoch: 16, Loss: 1.142602\n",
            "Epoch: 17, Loss: 0.809098\n",
            "Epoch: 18, Loss: 1.207442\n",
            "Epoch: 19, Loss: 0.851521\n",
            "Epoch: 20, Loss: 0.893926\n",
            "Epoch: 21, Loss: 1.014975\n",
            "Epoch: 22, Loss: 0.771671\n",
            "Epoch: 23, Loss: 0.727495\n",
            "Epoch: 24, Loss: 0.936012\n",
            "Epoch: 25, Loss: 0.792505\n",
            "Epoch: 26, Loss: 0.719492\n",
            "Epoch: 27, Loss: 1.229041\n",
            "Epoch: 28, Loss: 0.919473\n",
            "Epoch: 29, Loss: 0.582355\n",
            "Epoch: 30, Loss: 0.490523\n",
            "Epoch: 31, Loss: 0.653714\n",
            "Epoch: 32, Loss: 0.923506\n",
            "Epoch: 33, Loss: 0.608235\n",
            "Epoch: 34, Loss: 1.017840\n",
            "Epoch: 35, Loss: 0.737337\n",
            "Epoch: 36, Loss: 0.845214\n",
            "Epoch: 37, Loss: 0.634501\n",
            "Epoch: 38, Loss: 0.822567\n",
            "Epoch: 39, Loss: 0.555087\n",
            "Epoch: 40, Loss: 0.761780\n",
            "Epoch: 41, Loss: 0.535715\n",
            "Epoch: 42, Loss: 0.681177\n",
            "Epoch: 43, Loss: 0.958396\n",
            "Epoch: 44, Loss: 0.600701\n",
            "Epoch: 45, Loss: 0.803818\n",
            "Epoch: 46, Loss: 0.656356\n",
            "Epoch: 47, Loss: 0.552580\n",
            "Epoch: 48, Loss: 0.731860\n",
            "Epoch: 49, Loss: 1.026722\n",
            "Epoch: 50, Loss: 0.801950\n",
            "Epoch: 51, Loss: 0.632829\n",
            "Epoch: 52, Loss: 0.780071\n",
            "Epoch: 53, Loss: 0.946082\n",
            "Epoch: 54, Loss: 0.746402\n",
            "Epoch: 55, Loss: 0.537847\n",
            "Epoch: 56, Loss: 0.753041\n",
            "Epoch: 57, Loss: 0.948018\n",
            "Epoch: 58, Loss: 0.862532\n",
            "Epoch: 59, Loss: 0.814315\n",
            "Epoch: 60, Loss: 0.464233\n",
            "Epoch: 61, Loss: 0.805382\n",
            "Epoch: 62, Loss: 0.732057\n",
            "Epoch: 63, Loss: 0.772941\n",
            "Epoch: 64, Loss: 0.436935\n",
            "Epoch: 65, Loss: 0.472807\n",
            "Epoch: 66, Loss: 0.628891\n",
            "Epoch: 67, Loss: 1.482643\n",
            "Epoch: 68, Loss: 0.360465\n",
            "Epoch: 69, Loss: 0.483484\n",
            "Epoch: 70, Loss: 0.572615\n",
            "Epoch: 71, Loss: 0.253963\n",
            "Epoch: 72, Loss: 0.357060\n",
            "Epoch: 73, Loss: 0.571730\n",
            "Epoch: 74, Loss: 0.673127\n",
            "Epoch: 75, Loss: 0.509844\n",
            "Epoch: 76, Loss: 1.058722\n",
            "Epoch: 77, Loss: 0.758592\n",
            "Epoch: 78, Loss: 0.291345\n",
            "Epoch: 79, Loss: 0.684089\n",
            "Epoch: 80, Loss: 0.708772\n",
            "Epoch: 81, Loss: 0.621676\n",
            "Epoch: 82, Loss: 0.866939\n",
            "Epoch: 83, Loss: 0.729674\n",
            "Epoch: 84, Loss: 0.830737\n",
            "Epoch: 85, Loss: 0.525264\n",
            "Epoch: 86, Loss: 0.790782\n",
            "Epoch: 87, Loss: 0.694915\n",
            "Epoch: 88, Loss: 0.283484\n",
            "Epoch: 89, Loss: 0.373942\n",
            "Epoch: 90, Loss: 0.385749\n",
            "Epoch: 91, Loss: 0.510025\n",
            "Epoch: 92, Loss: 0.527840\n",
            "Epoch: 93, Loss: 0.764393\n",
            "Epoch: 94, Loss: 0.590487\n",
            "Epoch: 95, Loss: 0.758259\n",
            "Epoch: 96, Loss: 0.214777\n",
            "Epoch: 97, Loss: 1.277722\n",
            "Epoch: 98, Loss: 0.848282\n",
            "Epoch: 99, Loss: 0.607791\n",
            "Epoch: 100, Loss: 0.400239\n",
            "Epoch: 101, Loss: 0.906416\n",
            "Epoch: 102, Loss: 0.470946\n",
            "Epoch: 103, Loss: 0.298272\n",
            "Epoch: 104, Loss: 0.744210\n",
            "Epoch: 105, Loss: 0.493594\n",
            "Epoch: 106, Loss: 0.673977\n",
            "Epoch: 107, Loss: 0.582709\n",
            "Epoch: 108, Loss: 0.449817\n",
            "Epoch: 109, Loss: 0.527494\n",
            "Epoch: 110, Loss: 0.616060\n",
            "Epoch: 111, Loss: 0.559802\n",
            "Epoch: 112, Loss: 0.409117\n",
            "Epoch: 113, Loss: 0.647743\n",
            "Epoch: 114, Loss: 0.482479\n",
            "Epoch: 115, Loss: 0.536033\n",
            "Epoch: 116, Loss: 0.466342\n",
            "Epoch: 117, Loss: 0.875248\n",
            "Epoch: 118, Loss: 0.547622\n",
            "Epoch: 119, Loss: 0.361923\n",
            "Epoch: 120, Loss: 0.211891\n",
            "Epoch: 121, Loss: 0.458173\n",
            "Epoch: 122, Loss: 0.337360\n",
            "Epoch: 123, Loss: 0.327912\n",
            "Epoch: 124, Loss: 0.226756\n",
            "Epoch: 125, Loss: 0.394801\n",
            "Epoch: 126, Loss: 0.331710\n",
            "Epoch: 127, Loss: 0.599831\n",
            "Epoch: 128, Loss: 0.573866\n",
            "Epoch: 129, Loss: 0.725080\n",
            "Epoch: 130, Loss: 0.323863\n",
            "Epoch: 131, Loss: 0.463602\n",
            "Epoch: 132, Loss: 0.848274\n",
            "Epoch: 133, Loss: 0.569581\n",
            "Epoch: 134, Loss: 0.165925\n",
            "Epoch: 135, Loss: 0.414977\n",
            "Epoch: 136, Loss: 0.900080\n",
            "Epoch: 137, Loss: 0.491250\n",
            "Epoch: 138, Loss: 0.729335\n",
            "Epoch: 139, Loss: 0.481044\n",
            "Epoch: 140, Loss: 0.410415\n",
            "Epoch: 141, Loss: 0.381568\n",
            "Epoch: 142, Loss: 0.269773\n",
            "Epoch: 143, Loss: 0.223793\n",
            "Epoch: 144, Loss: 0.980063\n",
            "Epoch: 145, Loss: 0.531239\n",
            "Epoch: 146, Loss: 1.155688\n",
            "Epoch: 147, Loss: 0.584966\n",
            "Epoch: 148, Loss: 0.324738\n",
            "Epoch: 149, Loss: 0.343095\n",
            "Epoch: 150, Loss: 0.358503\n",
            "Epoch: 151, Loss: 0.465843\n",
            "Epoch: 152, Loss: 0.678424\n",
            "Epoch: 153, Loss: 0.569766\n",
            "Epoch: 154, Loss: 0.829717\n",
            "Epoch: 155, Loss: 0.106867\n",
            "Epoch: 156, Loss: 0.466233\n",
            "Epoch: 157, Loss: 0.458604\n",
            "Epoch: 158, Loss: 0.584429\n",
            "Epoch: 159, Loss: 0.441747\n",
            "Epoch: 160, Loss: 0.160189\n",
            "Epoch: 161, Loss: 0.417309\n",
            "Epoch: 162, Loss: 0.552565\n",
            "Epoch: 163, Loss: 0.288176\n",
            "Epoch: 164, Loss: 1.112131\n",
            "Epoch: 165, Loss: 0.705739\n",
            "Epoch: 166, Loss: 0.210947\n",
            "Epoch: 167, Loss: 0.511901\n",
            "Epoch: 168, Loss: 0.368984\n",
            "Epoch: 169, Loss: 0.473663\n",
            "Epoch: 170, Loss: 0.164578\n",
            "Epoch: 171, Loss: 0.782643\n",
            "Epoch: 172, Loss: 0.939861\n",
            "Epoch: 173, Loss: 0.629099\n",
            "Epoch: 174, Loss: 0.416530\n",
            "Epoch: 175, Loss: 0.352656\n",
            "Epoch: 176, Loss: 0.873964\n",
            "Epoch: 177, Loss: 0.510283\n",
            "Epoch: 178, Loss: 0.691948\n",
            "Epoch: 179, Loss: 0.274572\n",
            "Epoch: 180, Loss: 0.577278\n",
            "Epoch: 181, Loss: 0.540175\n",
            "Epoch: 182, Loss: 0.265028\n",
            "Epoch: 183, Loss: 0.740296\n",
            "Epoch: 184, Loss: 0.455421\n",
            "Epoch: 185, Loss: 0.616452\n",
            "Epoch: 186, Loss: 0.422301\n",
            "Epoch: 187, Loss: 0.771101\n",
            "Epoch: 188, Loss: 0.473151\n",
            "Epoch: 189, Loss: 0.578326\n",
            "Epoch: 190, Loss: 0.321718\n",
            "Epoch: 191, Loss: 0.908848\n",
            "Epoch: 192, Loss: 0.314449\n",
            "Epoch: 193, Loss: 0.705995\n",
            "Epoch: 194, Loss: 0.237723\n",
            "Epoch: 195, Loss: 0.632907\n",
            "Epoch: 196, Loss: 0.245984\n",
            "Epoch: 197, Loss: 0.461830\n",
            "Epoch: 198, Loss: 0.577061\n",
            "Epoch: 199, Loss: 0.606336\n",
            "Elapsed Training Time: 357.300656080246\n"
          ],
          "name": "stdout"
        }
      ]
    },
    {
      "cell_type": "code",
      "metadata": {
        "colab": {
          "base_uri": "https://localhost:8080/"
        },
        "id": "rlEYSdZ4Nsom",
        "outputId": "4aed6d8d-75e2-4712-9bad-3ea2f4766433"
      },
      "source": [
        "train_loader = torch.utils.data.DataLoader(cifar2, batch_size=64,\n",
        "                                           shuffle=False)\n",
        "device = (torch.device('cuda') if torch.cuda.is_available() else torch.device('cpu'))\n",
        "print(\"Using %s.\" % device)\n",
        "\n",
        "correct = 0\n",
        "total = 0\n",
        "\n",
        "with torch.no_grad():\n",
        "    for imgs, labels in train_loader:\n",
        "        imgs = imgs.to(device=device)\n",
        "        labels = labels.to(device=device)\n",
        "        outputs = model(imgs)\n",
        "        _, predicted = torch.max(outputs, dim=1)\n",
        "        total += labels.shape[0]\n",
        "        correct += int((predicted == labels).sum())\n",
        "        \n",
        "print(\"Accuracy: %f\" % (correct / total))"
      ],
      "execution_count": 55,
      "outputs": [
        {
          "output_type": "stream",
          "text": [
            "Using cuda.\n",
            "Accuracy: 0.765400\n"
          ],
          "name": "stdout"
        }
      ]
    },
    {
      "cell_type": "code",
      "metadata": {
        "id": "ZjqJXTYe8Taj",
        "colab": {
          "base_uri": "https://localhost:8080/"
        },
        "outputId": "14833121-173a-4ffd-bc41-2b37f620f1e9"
      },
      "source": [
        "val_loader = torch.utils.data.DataLoader(cifar2_val, batch_size=64,\n",
        "                                         shuffle=False)\n",
        "device = (torch.device('cuda') if torch.cuda.is_available() else torch.device('cpu'))\n",
        "print(\"Using %s.\" % device)\n",
        "\n",
        "correct = 0\n",
        "total = 0\n",
        "\n",
        "with torch.no_grad():\n",
        "    for imgs, labels in val_loader:\n",
        "        imgs = imgs.to(device=device)\n",
        "        labels = labels.to(device=device)\n",
        "        outputs = model(imgs)\n",
        "        _, predicted = torch.max(outputs, dim=1)\n",
        "        total += labels.shape[0]\n",
        "        correct += int((predicted == labels).sum())\n",
        "        \n",
        "print(\"Accuracy: %f\" % (correct / total))"
      ],
      "execution_count": 56,
      "outputs": [
        {
          "output_type": "stream",
          "text": [
            "Using cuda.\n",
            "Accuracy: 0.659400\n"
          ],
          "name": "stdout"
        }
      ]
    }
  ]
}