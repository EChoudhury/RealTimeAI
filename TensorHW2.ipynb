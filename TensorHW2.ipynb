{
  "nbformat": 4,
  "nbformat_minor": 0,
  "metadata": {
    "colab": {
      "name": "TensorHW2.ipynb",
      "provenance": [],
      "collapsed_sections": [],
      "authorship_tag": "ABX9TyOst/ZeB1Hh7KSbTG6tHywt",
      "include_colab_link": true
    },
    "kernelspec": {
      "name": "python3",
      "display_name": "Python 3"
    }
  },
  "cells": [
    {
      "cell_type": "markdown",
      "metadata": {
        "id": "view-in-github",
        "colab_type": "text"
      },
      "source": [
        "<a href=\"https://colab.research.google.com/github/EChoudhury/RealTimeAI/blob/main/TensorHW2.ipynb\" target=\"_parent\"><img src=\"https://colab.research.google.com/assets/colab-badge.svg\" alt=\"Open In Colab\"/></a>"
      ]
    },
    {
      "cell_type": "markdown",
      "metadata": {
        "id": "OmiR8KUUjsZZ"
      },
      "source": [
        "**Homework 2**\r\n",
        "\r\n",
        "Erich Choudhury"
      ]
    },
    {
      "cell_type": "markdown",
      "metadata": {
        "id": "vDvDPetOjyz-"
      },
      "source": [
        "1.a. \r\n",
        "\r\n",
        "First create a tensor from a list after importing the pytorch libraries"
      ]
    },
    {
      "cell_type": "code",
      "metadata": {
        "id": "G7YixcMzhuDD"
      },
      "source": [
        "import torch\r\n",
        "import numpy as np\r\n",
        "torch.set_printoptions(edgeitems=2, threshold=50)\r\n",
        "\r\n",
        "a = [0, 1, 2, 3, 4, 5, 6, 7, 8]\r\n",
        "\r\n",
        "#Create tensor\r\n",
        "temp = torch.tensor(a)"
      ],
      "execution_count": null,
      "outputs": []
    },
    {
      "cell_type": "markdown",
      "metadata": {
        "id": "IiOEEcOyjkyr"
      },
      "source": [
        "Next, return the size, offset, and stride of the tensor, \"temp\""
      ]
    },
    {
      "cell_type": "code",
      "metadata": {
        "colab": {
          "base_uri": "https://localhost:8080/"
        },
        "id": "SFRfoMEmjerS",
        "outputId": "1aa3fc3a-8941-449d-c280-e402f1d7571d"
      },
      "source": [
        "#Output tensor size\r\n",
        "temp.size()"
      ],
      "execution_count": null,
      "outputs": [
        {
          "output_type": "execute_result",
          "data": {
            "text/plain": [
              "torch.Size([9])"
            ]
          },
          "metadata": {
            "tags": []
          },
          "execution_count": 46
        }
      ]
    },
    {
      "cell_type": "code",
      "metadata": {
        "colab": {
          "base_uri": "https://localhost:8080/"
        },
        "id": "Uutlt9hqjhTF",
        "outputId": "18c08859-53e4-4953-88c0-a30b1737577f"
      },
      "source": [
        "#Output tensor offset\r\n",
        "temp.storage_offset()"
      ],
      "execution_count": null,
      "outputs": [
        {
          "output_type": "execute_result",
          "data": {
            "text/plain": [
              "0"
            ]
          },
          "metadata": {
            "tags": []
          },
          "execution_count": 47
        }
      ]
    },
    {
      "cell_type": "code",
      "metadata": {
        "colab": {
          "base_uri": "https://localhost:8080/"
        },
        "id": "ibj-Q7Xnji8D",
        "outputId": "602ff613-44ec-4ed4-ffa4-d15d6755918b"
      },
      "source": [
        "#Output tensor stride\r\n",
        "temp.stride()"
      ],
      "execution_count": null,
      "outputs": [
        {
          "output_type": "execute_result",
          "data": {
            "text/plain": [
              "(1,)"
            ]
          },
          "metadata": {
            "tags": []
          },
          "execution_count": 48
        }
      ]
    },
    {
      "cell_type": "markdown",
      "metadata": {
        "id": "km8YR0WYkTBA"
      },
      "source": [
        "1.b and 1.c. \r\n",
        "\r\n",
        "Now lets explore the built in cosine and square root functions from Pytorch. These functions work on tensors in newest version of Pytorch and do not seem to throw an error."
      ]
    },
    {
      "cell_type": "code",
      "metadata": {
        "colab": {
          "base_uri": "https://localhost:8080/"
        },
        "id": "A8Ia_fA9ka5Z",
        "outputId": "ce1a21aa-9724-4aec-d206-43ad9eeef66d"
      },
      "source": [
        "#Element-wise\r\n",
        "for x in temp:\r\n",
        "  print(torch.cos(x))\r\n",
        "\r\n",
        "#Entire tensor\r\n",
        "cosTemp = torch.cos(temp)\r\n",
        "print(cosTemp)"
      ],
      "execution_count": null,
      "outputs": [
        {
          "output_type": "stream",
          "text": [
            "tensor(1.)\n",
            "tensor(0.5403)\n",
            "tensor(-0.4161)\n",
            "tensor(-0.9900)\n",
            "tensor(-0.6536)\n",
            "tensor(0.2837)\n",
            "tensor(0.9602)\n",
            "tensor(0.7539)\n",
            "tensor(-0.1455)\n",
            "tensor([ 1.0000,  0.5403, -0.4161, -0.9900, -0.6536,  0.2837,  0.9602,  0.7539,\n",
            "        -0.1455])\n"
          ],
          "name": "stdout"
        }
      ]
    },
    {
      "cell_type": "code",
      "metadata": {
        "colab": {
          "base_uri": "https://localhost:8080/"
        },
        "id": "EZUsHlUAkiAi",
        "outputId": "4bd8b00d-19a2-4b44-86ba-8e932189e469"
      },
      "source": [
        "#Element-wise\r\n",
        "for x in temp:\r\n",
        "  print(torch.sqrt(x))\r\n",
        "\r\n",
        "#Entire tensor\r\n",
        "sqrtTemp = torch.sqrt(temp)\r\n",
        "print(sqrtTemp)"
      ],
      "execution_count": null,
      "outputs": [
        {
          "output_type": "stream",
          "text": [
            "tensor(0.)\n",
            "tensor(1.)\n",
            "tensor(1.4142)\n",
            "tensor(1.7321)\n",
            "tensor(2.)\n",
            "tensor(2.2361)\n",
            "tensor(2.4495)\n",
            "tensor(2.6458)\n",
            "tensor(2.8284)\n",
            "tensor([0.0000, 1.0000, 1.4142, 1.7321, 2.0000, 2.2361, 2.4495, 2.6458, 2.8284])\n"
          ],
          "name": "stdout"
        }
      ]
    },
    {
      "cell_type": "markdown",
      "metadata": {
        "id": "Twae5uIb_n18"
      },
      "source": [
        "Problem 2:\r\n",
        "\r\n",
        "The following code converts images of colored objeccts into tensors. It then finds and prints the mean of each image and the mean of each channel in the tensor. "
      ]
    },
    {
      "cell_type": "code",
      "metadata": {
        "colab": {
          "base_uri": "https://localhost:8080/"
        },
        "id": "xcwaDAqHpSWF",
        "outputId": "c49a74cc-e184-4075-ed1a-8050e803036d"
      },
      "source": [
        "import imageio\r\n",
        "import os\r\n",
        "\r\n",
        "batch_size = 6\r\n",
        "batch = torch.zeros(batch_size, 3, 3024, 4032, dtype=torch.uint8)\r\n",
        "\r\n",
        "data_dir = '/content/Color Objects/'\r\n",
        "filenames = [name for name in os.listdir(data_dir)\r\n",
        "             if os.path.splitext(name)[-1] == '.jpg']\r\n",
        "for i, filename in enumerate(filenames):\r\n",
        "    img_arr = imageio.imread(os.path.join(data_dir, filename))\r\n",
        "    img_t = torch.from_numpy(img_arr)\r\n",
        "    img_t = img_t.permute(2, 0, 1)\r\n",
        "    img_t = img_t[:3]\r\n",
        "    batch[i] = img_t\r\n",
        "\r\n",
        "#Batch Normalization\r\n",
        "batch = batch.float()\r\n",
        "\r\n",
        "#Image's means\r\n",
        "i = 1\r\n",
        "for x in batch:\r\n",
        "    imgMean = torch.mean(x)\r\n",
        "    print(f\"Mean of Image {i}: {imgMean}\")\r\n",
        "    i+=1\r\n",
        "\r\n",
        "#Batch Channel Means\r\n",
        "i = 1\r\n",
        "n_channels = batch.shape[1]\r\n",
        "for x in batch:\r\n",
        "    print(f\"Image {i}:\")\r\n",
        "    i+=1\r\n",
        "    for c in range(n_channels):\r\n",
        "        mean = torch.mean(x[:, c])\r\n",
        "        print(f\"  Channel {c} Mean: {mean}\")"
      ],
      "execution_count": null,
      "outputs": [
        {
          "output_type": "stream",
          "text": [
            "Mean of Image 1: 113.15406036376953\n",
            "Mean of Image 2: 125.29753112792969\n",
            "Mean of Image 3: 139.45567321777344\n",
            "Mean of Image 4: 159.26113891601562\n",
            "Mean of Image 5: 115.93212127685547\n",
            "Mean of Image 6: 121.94937133789062\n",
            "Image 1:\n",
            "  Channel 0 Mean: 123.97875213623047\n",
            "  Channel 1 Mean: 124.1705551147461\n",
            "  Channel 2 Mean: 124.34606170654297\n",
            "Image 2:\n",
            "  Channel 0 Mean: 169.89459228515625\n",
            "  Channel 1 Mean: 169.8775634765625\n",
            "  Channel 2 Mean: 169.81639099121094\n",
            "Image 3:\n",
            "  Channel 0 Mean: 210.260009765625\n",
            "  Channel 1 Mean: 210.30043029785156\n",
            "  Channel 2 Mean: 210.2057647705078\n",
            "Image 4:\n",
            "  Channel 0 Mean: 155.0625\n",
            "  Channel 1 Mean: 155.1697235107422\n",
            "  Channel 2 Mean: 155.1748504638672\n",
            "Image 5:\n",
            "  Channel 0 Mean: 136.02182006835938\n",
            "  Channel 1 Mean: 136.1436004638672\n",
            "  Channel 2 Mean: 136.0442352294922\n",
            "Image 6:\n",
            "  Channel 0 Mean: 159.94891357421875\n",
            "  Channel 1 Mean: 159.6793975830078\n",
            "  Channel 2 Mean: 160.67691040039062\n"
          ],
          "name": "stdout"
        }
      ]
    },
    {
      "cell_type": "code",
      "metadata": {
        "id": "MinpNyof7O9K"
      },
      "source": [
        ""
      ],
      "execution_count": null,
      "outputs": []
    }
  ]
}